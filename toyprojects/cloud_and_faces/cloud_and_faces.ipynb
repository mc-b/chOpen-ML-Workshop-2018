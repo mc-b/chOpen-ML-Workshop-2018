{
 "cells": [
  {
   "cell_type": "markdown",
   "metadata": {},
   "source": [
    "## Einleitung\n",
    "\n",
    "Automatisierte Objekterkennung im Allgemeinen und Gesichtserkenung und -analyse im Speziellen funktioniert mittlerweile erstaunlich gut. Für diese Aufgaben werden heute praktisch ausschliesslich Convolutional Neural Networks verwendet.\n",
    "\n",
    "Die verfügbaren Cloud-Dienste sind zum Teil so mächtig, dass man sie für viele Probleme out-of-the box verwenden kann. In diesem Toy Project werden wir das Google Cloud Vision API verwenden. Die Daten dazu holen wir uns von flickr.\n",
    "\n",
    "Aber auch Libraries, die man offline verwenden kann, sind schon erstaunlich gut. Wir verwenden die Python-Bibliothek face_recognition, um die Daten von flickr ein wenig zu säubern."
   ]
  },
  {
   "cell_type": "markdown",
   "metadata": {},
   "source": [
    "## Fragestellung und Metrik\n",
    "In diesem fiktiven Projekt wurde uns aufgetragen, eine Aussage zu machen, ob New York oder London *hipper* ist. Als erstes müssen wir definieren, wie wir *hip* zu messen gedenken. Wir entscheiden, dass der Grad an *Hippigkeit* gut an der Anzahl der Bart-Träger unter den männlichen flickr-Benützern zu messen ist, und erfinden die folgende, simple Metrik: "
   ]
  },
  {
   "cell_type": "markdown",
   "metadata": {},
   "source": [
    "flickr male beard ratio: $\\frac{B}{P}$\n",
    "\n",
    "wobei P die Anzahl der Portraits von Männern auf flickr bezeichnet und\n",
    "B die Anzahl an Portraits von Männern auf flickr mit Bart."
   ]
  },
  {
   "cell_type": "markdown",
   "metadata": {},
   "source": [
    "### Flickr Modul setup\n",
    "Wir initialisieren den Zugang zum flickr API mit dem folgenden Code:"
   ]
  },
  {
   "cell_type": "code",
   "execution_count": null,
   "metadata": {},
   "outputs": [],
   "source": [
    "from flickrapi import FlickrAPI\n",
    "\n",
    "FLICKR_PUBLIC = ...\n",
    "FLICKR_SECRET = ...\n",
    "\n",
    "flickr = FlickrAPI(FLICKR_PUBLIC, FLICKR_SECRET, format='parsed-json')"
   ]
  },
  {
   "cell_type": "markdown",
   "metadata": {},
   "source": [
    "Nun haben wir ein object *flickr*, mit welchem wir das [flickr API](https://www.flickr.com/services/api/) direkt ansprechen können. [flickr.people.findByUsername](https://www.flickr.com/services/api/flickr.people.findByUsername.html) beispielsweise wird wie untenstehend aufgerufen. Ein api_key muss nicht mehr jeses mal angegeben werden, das übernimmt das Python Modul. Will man in einem Argument mehrere Werte übergeben, übergibt man keine Python-Liste sondern man packt alle Werte in einen string und trennt mit Komma."
   ]
  },
  {
   "cell_type": "code",
   "execution_count": null,
   "metadata": {},
   "outputs": [],
   "source": [
    "flickr.people.findByUsername(username='_rebekka')"
   ]
  },
  {
   "cell_type": "markdown",
   "metadata": {},
   "source": [
    "Nun geht es los. Fotos finden wir mit [flickr.photos.search](https://www.flickr.com/services/api/flickr.photos.search.html). Wir suchen nach den tags 'portrait,man' und tag_mode='all' (um die beiden angegebenen tags mit AND anstelle von OR zu verknüpfen). Die Region grenzen wir ein, indem wir der Suche die woe_id angeben, welche such auf unsere Zielregion bezieht."
   ]
  },
  {
   "cell_type": "markdown",
   "metadata": {},
   "source": [
    "#### Aufgabe 1"
   ]
  },
  {
   "cell_type": "code",
   "execution_count": null,
   "metadata": {},
   "outputs": [],
   "source": [
    "# Finde die woe_id oder place_id von London und schreibe sie als string in die variable woeid_lo\n",
    "...\n",
    "woeid_lo = "
   ]
  },
  {
   "cell_type": "markdown",
   "metadata": {
    "solution2": "hidden",
    "solution2_first": true
   },
   "source": [
    "#### Vorschlag zur Umsetzung"
   ]
  },
  {
   "cell_type": "code",
   "execution_count": null,
   "metadata": {
    "solution2": "hidden"
   },
   "outputs": [],
   "source": [
    "# Wir machen die Abfrage...\n",
    "result = flickr.places.find(query='London', format='parsed-json')\n",
    "# ...und schauen uns das resultierende json an\n",
    "result"
   ]
  },
  {
   "cell_type": "code",
   "execution_count": null,
   "metadata": {
    "solution2": "hidden"
   },
   "outputs": [],
   "source": [
    "# ...und picken den entsprechende Wert raus. \n",
    "woe_id_lo = [e['woeid'] for e in result['places']['place'] if e['_content'] == 'London, England, United Kingdom'][0]\n",
    "woe_id_lo"
   ]
  },
  {
   "cell_type": "markdown",
   "metadata": {},
   "source": [
    "#### Aufgabe 2"
   ]
  },
  {
   "cell_type": "code",
   "execution_count": null,
   "metadata": {},
   "outputs": [],
   "source": [
    "# Finde die woe_id der Stadt (locality) New York und schreibe sie als string in die variable woeid_ny\n",
    "...\n",
    "woe_id_ny = "
   ]
  },
  {
   "cell_type": "markdown",
   "metadata": {
    "solution2": "hidden",
    "solution2_first": true
   },
   "source": [
    "#### Vorschlag zur Umsetzung"
   ]
  },
  {
   "cell_type": "code",
   "execution_count": null,
   "metadata": {
    "solution2": "hidden"
   },
   "outputs": [],
   "source": [
    "# Nochmal dasselbe wie oben\n",
    "result = flickr.places.find(query='New York', format='parsed-json')\n",
    "result"
   ]
  },
  {
   "cell_type": "code",
   "execution_count": null,
   "metadata": {
    "solution2": "hidden"
   },
   "outputs": [],
   "source": [
    "woe_id_ny = [e['woeid'] for e in result['places']['place'] if e['_content'] == 'New York, NY, United States'][0]\n",
    "woe_id_ny"
   ]
  },
  {
   "cell_type": "markdown",
   "metadata": {},
   "source": [
    "Mit den nun gefundenen zwei woe_ids können wir unsere Suche starten. Nun schauen wir, ob unsere Abfrage Treffer ergibt und wenn ja, wieviele. Wir suchen mit [flickr.photos.search](https://www.flickr.com/services/api/flickr.photos.search.html) und den tags 'portrait,man' sowie tag_mode='all' in der enstprechenden Region."
   ]
  },
  {
   "cell_type": "markdown",
   "metadata": {},
   "source": [
    "#### Aufgabe 3"
   ]
  },
  {
   "cell_type": "code",
   "execution_count": null,
   "metadata": {},
   "outputs": [],
   "source": [
    "# Finde die Anzahl der Treffer zu den angegebenen tags (je für New York und London)\n",
    "# und schreibe sie in die Variablen num_ny und num_lo\n",
    "...\n",
    "num_ny = \n",
    "num_lo = "
   ]
  },
  {
   "cell_type": "markdown",
   "metadata": {
    "solution2": "hidden",
    "solution2_first": true
   },
   "source": [
    "#### Vorschlag zur Umsetzung"
   ]
  },
  {
   "cell_type": "code",
   "execution_count": null,
   "metadata": {
    "solution2": "hidden"
   },
   "outputs": [],
   "source": [
    "# Wir suchen mit per_page=1 u die genaue Anzahl an Treffer zu erhalten\n",
    "num_ny = flickr.photos.search(tags='portrait,man', tag_mode='all', woe_id=woe_id_ny, per_page=1)['photos']['pages']\n",
    "num_lo = flickr.photos.search(tags='portrait,man', tag_mode='all', woe_id=woe_id_lo, per_page=1)['photos']['pages']\n",
    "# Falls wir Werte grösser als 4000 bekommen hätten, wäre eine Limitierung auf 4000 notwendig gewesen,\n",
    "# da das flickr API maximal 4000 Resultate zurückgibt. Zum Beispiel so:\n",
    "# num_ny = num_ny if num_ny <= 4000 else 4000\n",
    "# Zur Kontrolle geben wir noch beide Werte aus:\n",
    "(num_ny, num_lo)"
   ]
  },
  {
   "cell_type": "markdown",
   "metadata": {},
   "source": [
    "Gut. Nun holen wir pro Region (London und New York) je 100 zufällige Bilder (und sind uns dabei bewusst, dass wir so natürlich überhaupt keine repräsentative Stichprobe erwischen). Leider bietet das flickr API keine Möglichkeit, die Reihenfolge der Resultate zu randomisieren. Deshalb fragen wir pro Ort je 50 zufällig gewählte page_ids ab mit je nur einem Resultat (Bild) pro Page. Aus diesen Ein-Foto-Pages extrahieren wir anschliessend dann die Links für den Image Download.\n",
    "\n",
    "Gültige page_ids liegen zwischen 1 und num_ny (bzw num_lo), inklusive."
   ]
  },
  {
   "cell_type": "markdown",
   "metadata": {},
   "source": [
    "#### Aufgabe 4"
   ]
  },
  {
   "cell_type": "code",
   "execution_count": null,
   "metadata": {},
   "outputs": [],
   "source": [
    "# Generiere je zufällig 100 page_ids\n",
    "...\n",
    "page_ids_ny = \n",
    "page_ids_lo = "
   ]
  },
  {
   "cell_type": "markdown",
   "metadata": {
    "solution2": "hidden",
    "solution2_first": true
   },
   "source": [
    "#### Vorschlag zur Umsetzung"
   ]
  },
  {
   "cell_type": "code",
   "execution_count": null,
   "metadata": {
    "solution2": "hidden"
   },
   "outputs": [],
   "source": [
    "import random\n",
    "# Durch setzen des Status des Pseudo-Zufallszahlengenerators erhalten wir bei jedem Aufruf\n",
    "# die gleiche Liste an Zufallszahlen. Das hilft normalerweise mit der Reproduzierbarkeit,\n",
    "# wobei die hier sowieso begrenzt ist, da sich die auf flickr verfügbaren Bilder ja mit\n",
    "# der Zeit ändern. Wir machen es trotzdem mal.\n",
    "random.seed(42)\n",
    "\n",
    "page_ids_ny = random.sample(range(1, num_ny+1), 100)\n",
    "page_ids_lo = random.sample(range(1, num_lo+1), 100)\n",
    "\n",
    "# je drei Ausgeben, zum Schauen, ob wir auch was gefunden haben\n",
    "(page_ids_ny[0:3], page_ids_lo[0:3])"
   ]
  },
  {
   "cell_type": "markdown",
   "metadata": {},
   "source": [
    "Aus diesen IDs müssen wir nun Download Links generieren. Wir schauen uns als erstes noch einmal eine Response von [flickr.photos.search](https://www.flickr.com/services/api/flickr.photos.search.html) an. Der Download Link befindet sich im Feld *url_m*."
   ]
  },
  {
   "cell_type": "markdown",
   "metadata": {},
   "source": [
    "#### Aufgabe 5"
   ]
  },
  {
   "cell_type": "code",
   "execution_count": null,
   "metadata": {},
   "outputs": [],
   "source": [
    "# Verwende flickr.photos.search um die Response für eine einzelne page auszugeben,\n",
    "# damit wir anschliessend die benötigten Felder heraussuchen können\n",
    "flickr.photos.search(...)"
   ]
  },
  {
   "cell_type": "markdown",
   "metadata": {
    "solution2": "hidden",
    "solution2_first": true
   },
   "source": [
    "#### Vorschlag zur Umsetzung"
   ]
  },
  {
   "cell_type": "code",
   "execution_count": null,
   "metadata": {
    "solution2": "hidden"
   },
   "outputs": [],
   "source": [
    "flickr.photos.search(tags='portrait,man', tag_mode='all', per_page=1, page=1, woe_id=woe_id_ny, extras='url_m')"
   ]
  },
  {
   "cell_type": "markdown",
   "metadata": {},
   "source": [
    "Wir sehen, dass die Response aus einem Dictionary mit einem Eintrag mit Key 'photos' besteht. Dessen Value ist wiederum ein Dictionary, uns interessiert der Key 'photo', dessen Value eine Liste mit einem einzigen Element ist, unserem angefragten Photo. Wir benötigen davon nun die 'id', den 'owner' und die direkte URL 'url_m'."
   ]
  },
  {
   "cell_type": "markdown",
   "metadata": {},
   "source": [
    "#### Aufgabe 6"
   ]
  },
  {
   "cell_type": "code",
   "execution_count": null,
   "metadata": {},
   "outputs": [],
   "source": [
    "# Stelle die nachstehende Funktion fertig, so das sie verwendet werden kann,\n",
    "# um eine Liste von Links auf unsere oben generierten Image IDs (page_ids_ny, page_ids_lo) zu generieren.\n",
    "\n",
    "def create_list_of_images(page_ids, woe_id):\n",
    "    \"\"\" Return a list image urls.\n",
    "    \n",
    "    Arguments:\n",
    "    page_ids -- the list of flickr page ids for which to construct the urls\n",
    "    woe_id -- the flickr region id to use as a search filter\n",
    "    \n",
    "    Returns:\n",
    "    list of tuples, the first tuple item being the webpage url and the second being the direct url\n",
    "    \"\"\"\n",
    "    list_of_images = []\n",
    "    for i in page_ids:\n",
    "        result = flickr.photos.search(...)\n",
    "        try:\n",
    "            ...\n",
    "            photo_id = ...\n",
    "            user_id = ...\n",
    "            direct_url = ...\n",
    "            webpage_url = \"https://www.flickr.com/photos/{}/{}\".format(user_id, photo_id)\n",
    "            list_of_images.append((webpage_url, direct_url))\n",
    "        except IndexError:\n",
    "            pass # sometimes calls do not return a result\n",
    "    return list_of_images"
   ]
  },
  {
   "cell_type": "markdown",
   "metadata": {
    "solution2": "hidden",
    "solution2_first": true
   },
   "source": [
    "#### Vorschlag zur Umsetzung"
   ]
  },
  {
   "cell_type": "code",
   "execution_count": null,
   "metadata": {
    "solution2": "hidden"
   },
   "outputs": [],
   "source": [
    "def create_list_of_images(page_ids, woe_id):\n",
    "    \"\"\" Return a list image urls.\n",
    "    \n",
    "    Arguments:\n",
    "    page_ids -- the list of flickr page ids for which to construct the urls\n",
    "    woe_id -- the flickr region id to use as a search filter\n",
    "    \n",
    "    Returns:\n",
    "    list of tuples, the first tuple item being the webpage url and the second being the direct url\n",
    "    \"\"\"\n",
    "    list_of_images = []\n",
    "    for i in page_ids:\n",
    "        result = flickr.photos.search(tags='portrait,man', tag_mode='all',\n",
    "                                      per_page=1, page=i, woe_id=woe_id, extras='url_m')\n",
    "        try:\n",
    "            photo = result['photos']['photo'][0]\n",
    "            photo_id = photo['id']\n",
    "            user_id = photo['owner']\n",
    "            direct_url = photo['url_m']\n",
    "            webpage_url = \"https://www.flickr.com/photos/{}/{}\".format(user_id, photo_id)\n",
    "            list_of_images.append((webpage_url, direct_url))\n",
    "        except IndexError:\n",
    "            pass # sometimes calls do not return a result\n",
    "    return list_of_images"
   ]
  },
  {
   "cell_type": "markdown",
   "metadata": {},
   "source": [
    "Nun generieren wir zwei Listen mit unseren Portraitbildern, einmal für New York und einmal für London."
   ]
  },
  {
   "cell_type": "markdown",
   "metadata": {},
   "source": [
    "#### Aufgabe 7"
   ]
  },
  {
   "cell_type": "code",
   "execution_count": null,
   "metadata": {},
   "outputs": [],
   "source": [
    "# Speichere die Liste der Link in den zwei untenstehenden Variablen\n",
    "ny_images = ...\n",
    "lo_images = ..."
   ]
  },
  {
   "cell_type": "markdown",
   "metadata": {
    "solution2": "hidden",
    "solution2_first": true
   },
   "source": [
    "#### Vorschlag zur Umsetzung"
   ]
  },
  {
   "cell_type": "code",
   "execution_count": null,
   "metadata": {
    "solution2": "hidden"
   },
   "outputs": [],
   "source": [
    "# Die Ausführung dieser Zelle dauert so 1-2 Minuten\n",
    "ny_images = create_list_of_images(page_ids_ny, woe_id_ny)\n",
    "lo_images = create_list_of_images(page_ids_lo, woe_id_lo)\n",
    "\n",
    "# Wiederum je drei Ausgeben, als Kontrolle\n",
    "(ny_images[0:3], lo_images[0:3])"
   ]
  },
  {
   "cell_type": "markdown",
   "metadata": {},
   "source": [
    "Schauen wir uns mal ein paar der gefundenen Portraits an. Wenn hier nur broken Links angezeigt werden, im Browser die Tracking protection für localhost ausschalten."
   ]
  },
  {
   "cell_type": "code",
   "execution_count": null,
   "metadata": {},
   "outputs": [],
   "source": [
    "from IPython.core.display import HTML\n",
    "from IPython.display import display\n",
    "display(HTML(''.join('<a href=\"{}\"><img src=\"{}\" style=\"width: 180px; \\\n",
    "                      margin: 1px; float: left\"/></a>'.format(url[0], url[1]) for url in ny_images[0:25])))"
   ]
  },
  {
   "cell_type": "markdown",
   "metadata": {},
   "source": [
    "Okay, da ist bei weitem nicht alles brauchbar. Wir haben auch Bilder zurückerhalten, auf denen keine erkennbaren Männer-Gesichter zu sehen sind. Wenn Du auf einige der Bilder klickst (bzw. in neuem Tab öffen), wirst Du sehen, dass tatsächlich bei allen Bildern die Tags 'man' und 'portrait' vergeben wurden. Unsere Abfrage hat also schon korrekt funktioniert, die Daten sind aber (aus unserer Sicht) noch nicht sauber genug.\n",
    "\n",
    "Wir müssen also noch ein bisschen mehr filtern. Dies machen wir mit der Python-Bibliothek [face_recognition](http://pythonhosted.org/face_recognition/). Face_recognition basiert auf einem (pretrained) neuronalen Netz und bietet ein simples API, um (ohne Cloud-Anbindung) Face Detection und Recognition zu machen. Wir haben dieselbe Bibliothek schon in den Slides verwendet."
   ]
  },
  {
   "cell_type": "markdown",
   "metadata": {},
   "source": [
    "Dazu holen wir mit der Funktion Befehl [urllib.request.urlopen](https://docs.python.org/3/library/urllib.request.html) für jeden Link eines Bildes ein File-Object mit dem Bild, laden dieses Objekt mit der Funktion [face_recognition.load_image_file()](https://face-recognition.readthedocs.io/en/latest/face_recognition.html#face_recognition.api.load_image_file) in ein array und verwenden [face_recognition.face_locations()](https://face-recognition.readthedocs.io/en/latest/face_recognition.html#face_recognition.api.face_locations) (mit number_of_times_to_upsample=1), um festzustellen, ob auf dem Bild ein erkennbares Gesicht ist.\n",
    "\n",
    "Beispiele von Face Recognition sind [hier](http://pythonhosted.org/face_recognition/readme.html) zu finden, und das API wird [hier](https://face-recognition.readthedocs.io/en/latest/face_recognition.html) beschrieben."
   ]
  },
  {
   "cell_type": "markdown",
   "metadata": {},
   "source": [
    "#### Aufgabe 8"
   ]
  },
  {
   "cell_type": "code",
   "execution_count": null,
   "metadata": {},
   "outputs": [],
   "source": [
    "# Filtere die Listen ny_images und lo_images so, dass face_recognition Gesichter erkennt und\n",
    "# speichere die Resultate in den folgenden Variablen:\n",
    "\n",
    "import urllib.request as ur\n",
    "import face_recognition as fr\n",
    "\n",
    "filtered_ny_images = ...\n",
    "filtered_lo_images = ..."
   ]
  },
  {
   "cell_type": "markdown",
   "metadata": {
    "solution2": "hidden",
    "solution2_first": true
   },
   "source": [
    "#### Vorschlag zur Umsetzung"
   ]
  },
  {
   "cell_type": "code",
   "execution_count": null,
   "metadata": {
    "solution2": "hidden"
   },
   "outputs": [],
   "source": [
    "# Die Ausführung dieser Zelle dauert auch 2-3 Minuten, je nach Laptop\n",
    "import urllib.request as ur\n",
    "import face_recognition as fr\n",
    "\n",
    "filtered_ny_images = [i[1] for i in ny_images if fr.face_locations(fr.load_image_file(ur.urlopen(i[1])), 1)]\n",
    "filtered_lo_images = [i[1] for i in lo_images if fr.face_locations(fr.load_image_file(ur.urlopen(i[1])), 1)]\n",
    "\n",
    "# Das ist etwas unleserlich, hier nochmals mit ausgeschriebenem for loop\n",
    "\n",
    "#filtered_ny_images = []\n",
    "#for tup in ny_images:\n",
    "#    link = tup[1]\n",
    "#    image = fr.load_image_file(ur.urlopen(link))\n",
    "#    if fr.face_locations(image, 1):\n",
    "#        filtered_ny_images.append(link)"
   ]
  },
  {
   "cell_type": "markdown",
   "metadata": {},
   "source": [
    "Schauen wir uns die gefilterte Liste wiederum an"
   ]
  },
  {
   "cell_type": "code",
   "execution_count": null,
   "metadata": {},
   "outputs": [],
   "source": [
    "display(HTML(''.join('<img src=\"{}\" title=\"{}\" style=\"width: 180px; \\\n",
    "                      margin: 1px; float: left\"/>'.format(url, i) for i, url in enumerate(filtered_ny_images[0:25]))))"
   ]
  },
  {
   "cell_type": "markdown",
   "metadata": {},
   "source": [
    "Schon viel besser! Die Nicht-Männer filtern wir später.\n",
    "\n",
    "Dass es Abfrage-bedingt vorkommen kann, dass dieselbe Person mehrmals vorkommt (wenn ein Fotograf von derselben Person sehr viele Portraits gemacht hat), ignorieren wir für diese Übung. Ein Herausfiltern solcher Duplikate wäre mit face_recognition.face_encodings() und face_recognition.compare_faces() möglich, aber aufgrund der vielen notwendigen Vergleiche sehr zeitaufwändig.\n",
    "\n",
    "Wieviele Bilder sind nun noch übrig?"
   ]
  },
  {
   "cell_type": "code",
   "execution_count": null,
   "metadata": {},
   "outputs": [],
   "source": [
    "(len(filtered_ny_images), len(filtered_lo_images))"
   ]
  },
  {
   "cell_type": "markdown",
   "metadata": {},
   "source": [
    "Nachdem wir nun unser Set an Daten gesammelt und die Links zu den Bildern in den beiden Variablen `filtered_ny_images` und `filtered_lo_images` gespeichert haben, verwenden wir das [Google Cloud Vision API](https://cloud.google.com/vision/), um für jedes Bild zu entscheiden, ob es einen Mann und einen Bart enthält."
   ]
  },
  {
   "cell_type": "markdown",
   "metadata": {
    "collapsed": true
   },
   "source": [
    "**Achtung**: Für den Workshop stehen ca. **200'000 API Requests**  zur Verfügung (insgesamt, nicht pro Teilnehmer). Bitte keine Endlosloops bauen."
   ]
  },
  {
   "cell_type": "markdown",
   "metadata": {},
   "source": [
    "Wir initialisieren den Cloud Vision Client:"
   ]
  },
  {
   "cell_type": "code",
   "execution_count": null,
   "metadata": {},
   "outputs": [],
   "source": [
    "#  API Keys laden\n",
    "import os\n",
    "os.environ[\"GOOGLE_APPLICATION_CREDENTIALS\"] = \"/data/gcloud.json\""
   ]
  },
  {
   "cell_type": "code",
   "execution_count": null,
   "metadata": {},
   "outputs": [],
   "source": [
    "# Client erstellen\n",
    "from google.cloud import vision\n",
    "from google.cloud.vision import types\n",
    "client = vision.ImageAnnotatorClient()"
   ]
  },
  {
   "cell_type": "markdown",
   "metadata": {},
   "source": [
    "Nun erstellen wir eine Funktion, die eine Liste von URIs und den initialisierten Client als Parameter nimmt und eine Liste von wahrscheinlichen \"Labels\" zurückgibt. Labels sind hier diejenigen Dinge, die Google Cloud Vision mit dem analysierten Bild assoziiert.\n",
    "\n",
    "Ein Bild wird mittels `types.Image()` initialisiert, sein `content` Attribut muss das Bild enthalten. Das Bild kann mit dem Modul `requests` geholt werden. Danach werden mit `client.label_detection()` die eine Liste mit Labels Annotationen geholt. \n",
    "\n",
    "Die Elemente dieser Liste sind Label-Objekte, welche das eigentliche Label im Member `.description` haben, und im Member `.score` einen Wert, wie sicher sich Cloud Vision bei diesem Label fühlt (eine Wahrscheinlichkeit zwischen 0 und 1 wobei 1 absolut sicher bedeutet). Wir verwenden diese Score, um nur diejenigen Labels zu berücksichtigen, welche wahrscheinlicher als 0.7 sind."
   ]
  },
  {
   "cell_type": "markdown",
   "metadata": {},
   "source": [
    "#### Aufgabe 9"
   ]
  },
  {
   "cell_type": "code",
   "execution_count": null,
   "metadata": {},
   "outputs": [],
   "source": [
    "# Stelle die folgende Funktion wie oben beschrieben fertig\n",
    "import requests\n",
    "def get_labels(image_uris, client):\n",
    "    \n",
    "    filtered_labels = []\n",
    "    for uri in image_uris:\n",
    "        # google cloud vision api hat probleme damit, bilder direkt via remote urls zu lesen\n",
    "        #   https://stackoverflow.com/questions/45119587/we-can-not-access-the-url-currently\n",
    "        # der folgende code funktioniert nicht verlässlich:\n",
    "        # image = types.Image()\n",
    "        # image.source.image_uri = uri\n",
    "\n",
    "        # workaround: bilder zuerst downloadedn, dann dem cloud vision api übergeben\n",
    "        image = ... # Bild-Objekt mit remote content initialisieren, requests modul verwenden\n",
    "        detected_labels = ... # Label Annotations holen\n",
    "        filtered_labels.append(...) # Liste aller label.description hinzufügen, wenn deren score > 0.7 ist\n",
    "        \n",
    "    assert len(image_uris) == len(filtered_labels) # für jedesd Bild haben wir am Schluss eine Liste von Labels\n",
    "    return filtered_labels"
   ]
  },
  {
   "cell_type": "markdown",
   "metadata": {
    "solution2": "hidden",
    "solution2_first": true
   },
   "source": [
    "#### Vorschlag zur Umsetzung"
   ]
  },
  {
   "cell_type": "code",
   "execution_count": null,
   "metadata": {
    "solution2": "hidden"
   },
   "outputs": [],
   "source": [
    "import requests\n",
    "def get_labels(image_uris, client):\n",
    "    \n",
    "    filtered_labels = []\n",
    "    for uri in image_uris:\n",
    "        # google cloud vision api hat probleme damit, bilder direkt via remote urls zu lesen\n",
    "        #   https://stackoverflow.com/questions/45119587/we-can-not-access-the-url-currently\n",
    "        # der folgende code funktioniert nicht verlässlich:\n",
    "        # image = types.Image()\n",
    "        # image.source.image_uri = uri\n",
    "\n",
    "        # workaround: bilder zuerst downloadedn, dann dem cloud vision api übergeben\n",
    "        image = types.Image(content=requests.get(uri).content)\n",
    "        detected_labels = client.label_detection(image=image, max_results=50).label_annotations\n",
    "        filtered_labels.append([l.description for l in detected_labels if l.score > 0.7])\n",
    "        \n",
    "    assert len(image_uris) == len(filtered_labels)\n",
    "    return filtered_labels"
   ]
  },
  {
   "cell_type": "markdown",
   "metadata": {},
   "source": [
    "Uns interessiert nun für jedes unserer Bilder, ob Google Cloud Vision ihm die Labels 'man' und 'beard' gibt. Bilder ohne Label 'man' ignorieren wir, denn das sind (im Rahmen unseres simplen Beispiels) solche, auf denen kein Mann drauf ist.\n",
    "\n",
    "Aus den Bildern mit den labels 'man' und 'beard' errechnen wir nun für New York und London je die anfangs definierte *flickr male beard ratio*."
   ]
  },
  {
   "cell_type": "markdown",
   "metadata": {},
   "source": [
    "#### Aufgabe 10"
   ]
  },
  {
   "cell_type": "code",
   "execution_count": null,
   "metadata": {},
   "outputs": [],
   "source": [
    "# Berechne je Stadt die flickr male beard ratio mit den Listen filtered_ny_images und filtered_lo_images\n",
    "# Um unnötige Wartezeiten und unnötigen Verbrauch von Requests zu vermeiden,\n",
    "# führe die Request an Google nur einmal durch\n",
    "\n",
    "# Die Ausführung dieser Zelle dauert auch 2-3 Minuten\n",
    "ny_labels = get_labels(filtered_ny_images, client)\n",
    "lo_labels = get_labels(filtered_lo_images, client)"
   ]
  },
  {
   "cell_type": "code",
   "execution_count": null,
   "metadata": {},
   "outputs": [],
   "source": [
    "# Arbeite in dieser Zelle weiter, damit Du die Requests nicht mehrfach ausführen musst\n",
    "def male(l):\n",
    "    \"\"\" returns True if list contains no non-male labels\n",
    "        non-male labels are 'girl', 'woman', 'female' and 'lady'\n",
    "    \"\"\"\n",
    "    return ...\n",
    "\n",
    "def hairy(l):\n",
    "    \"\"\" returns True if list contains hairy labels\n",
    "        hairy labels are 'facial hair' and 'beard'\"\"\"\n",
    "    return ..."
   ]
  },
  {
   "cell_type": "code",
   "execution_count": null,
   "metadata": {},
   "outputs": [],
   "source": [
    "ny_total_males = ...\n",
    "ny_bearded_males = ...\n",
    "lo_total_males = ...\n",
    "lo_bearded_males = ..."
   ]
  },
  {
   "cell_type": "markdown",
   "metadata": {
    "solution2": "hidden",
    "solution2_first": true
   },
   "source": [
    "#### Vorschlag zur Umsetzung"
   ]
  },
  {
   "cell_type": "code",
   "execution_count": null,
   "metadata": {
    "solution2": "hidden"
   },
   "outputs": [],
   "source": [
    "def male(l):\n",
    "    \"\"\" returns True if list contains no non-male labels \"\"\"\n",
    "    return 'girl' not in l and 'woman' not in l and 'female' not in l and 'lady' not in l\n",
    "\n",
    "def hairy(l):\n",
    "    \"\"\" returns True if list contains hairy labels\"\"\"\n",
    "    return 'facial hair' in l or 'beard' in l"
   ]
  },
  {
   "cell_type": "code",
   "execution_count": null,
   "metadata": {
    "solution2": "hidden"
   },
   "outputs": [],
   "source": [
    "ny_total_males = sum([1 for label_list in ny_labels if male(label_list)])\n",
    "ny_bearded_males = sum([1 for label_list in ny_labels if male(label_list) and hairy(label_list)])\n",
    "lo_total_males = sum([1 for label_list in lo_labels if male(label_list)])\n",
    "lo_bearded_males = sum([1 for label_list in lo_labels if male(label_list) and hairy(label_list)])"
   ]
  },
  {
   "cell_type": "markdown",
   "metadata": {},
   "source": [
    "Wir berechnen die Flickr Male beard Ratio:"
   ]
  },
  {
   "cell_type": "code",
   "execution_count": null,
   "metadata": {
    "solution2": "shown"
   },
   "outputs": [],
   "source": [
    "flickr_male_beard_ratio_ny = ny_bearded_males/ny_total_males\n",
    "flickr_male_beard_ratio_lo = lo_bearded_males/lo_total_males\n",
    "\"New York has a Flickr Male Beard Ratio of {:.3}, while London achieves {:.3}\".format(flickr_male_beard_ratio_ny,\n",
    "                                                                                      flickr_male_beard_ratio_lo)"
   ]
  },
  {
   "cell_type": "markdown",
   "metadata": {},
   "source": [
    "Und nun wissen wir, welche der beiden Städte hipper ist und hätten auch diese unglaublich wichtige Frage geklärt!"
   ]
  }
 ],
 "metadata": {
  "language_info": {
   "name": "python",
   "pygments_lexer": "ipython3"
  }
 },
 "nbformat": 4,
 "nbformat_minor": 2
}
