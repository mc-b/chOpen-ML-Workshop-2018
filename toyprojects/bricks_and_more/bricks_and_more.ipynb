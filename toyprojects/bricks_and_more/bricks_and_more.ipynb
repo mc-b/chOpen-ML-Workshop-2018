{
 "nbformat": 4,
 "nbformat_minor": 0,
 "metadata": {
  "language_info": {
   "name": "python",
   "pygments_lexer": "ipython3"
  }
 },
 "cells": [
  {
   "metadata": {
    "id": "k97MhZc1s26U",
    "colab_type": "text"
   },
   "cell_type": "markdown",
   "source": [
    "# Transfer Learning and Fine-Tuning with Keras\n",
    "\n",
    "originally by [Magnus Erik Hvass Pedersen](http://www.hvass-labs.org/)\n",
    "/ [GitHub](https://github.com/Hvass-Labs/TensorFlow-Tutorials) / [Videos on YouTube](https://www.youtube.com/playlist?list=PL9Hr9sNUjfsmEu1ZniY0XpHSzl5uihcXZ)\n",
    "\n",
    "adapted by [Tobias Mérinat](https://www.linkedin.com/in/tobias-m%C3%A9rinat/) for the [CH Open Workshoptage Machine Learning Workshop](https://workshoptage.ch/workshops/2018/machine-learning-fuer-software-enwickler/) / [Github](https://github.com/tobycheese/chOpen-ML-Workshop-2018)"
   ]
  },
  {
   "metadata": {
    "id": "j0wS9RVhs26W",
    "colab_type": "text"
   },
   "cell_type": "markdown",
   "source": [
    "## Introduction\n",
    "\n",
    "This tutorial shows how to do both Transfer Learning and Fine-Tuning using the Keras API for Tensorflow. We will use a small, prepared dataset of Lego Technics parts. We will use the VGG16 model in this tutorial because its architecture is easy to work with.\n",
    "\n",
    "NOTE: It takes around 15 minutes to execute this Notebook on a laptop PC with a 2.6 GHz CPU and a GTX 1070 GPU. Running it on the CPU alone is estimated to take around 10 hours! With Google Colab GPU support, the training time is reduced to about 8 minutes per model."
   ]
  },
  {
   "metadata": {
    "id": "OdIEFKsrs26X",
    "colab_type": "text"
   },
   "cell_type": "markdown",
   "source": [
    "## Flowchart\n",
    "\n",
    "The idea is to re-use a pre-trained model, in this case the VGG16 model, which consists of several convolutional layers (actually blocks of multiple convolutional layers), followed by some fully-connected / dense layers and then a softmax output layer for the classification. Well-written, brief explanations of VGG can be found in [this](https://www.quora.com/What-is-the-VGG-neural-network) Quora post.\n",
    "\n",
    "The dense layers are responsible for combining features from the convolutional layers and this helps in the final classification. So when the VGG16 model is used on another dataset we may have to replace all the dense layers. In this case we add another dense-layer and a dropout-layer to avoid overfitting.\n",
    "\n",
    "The difference between Transfer Learning and Fine-Tuning is that in Transfer Learning we only optimize the weights of the new classification layers we have added, while we keep the weights of the original VGG16 model. This works well if our data is similar to the data the VGG16 model was originally trained with.\n",
    "In Fine-Tuning we optimize both the weights of the new classification layers we have added, as well as some or all of the layers from the VGG16 model. This works well if our data is somewhat different from the original data.\n",
    "\n",
    "For instance, VGG16 has been trained on the ImageNet database which contains 1000 classes of common things such as balloon, strawberry, dog races and so on. In contrast, our Lego dataset consists of images of Lego bricks. Lower-level features of the trained VGG16 model such as edges and basic shapes can be reused for our dataset, as images of Lego bricks also consist of edges and basic shapes. However, higher-level features that are specific to the original dataset such as features that distinguish between cat and dog faces will be discarded. The layers deeper in the network represent these features and will be re-trained with our own Lego dataset.\n",
    "\n",
    "The image below depicts Fine-Tuning, while with Transfer Learning, the gray/yellow blocks would be larger and extend more towards the left."
   ]
  },
  {
   "metadata": {
    "id": "AAelAa8Ps26X",
    "colab_type": "text"
   },
   "cell_type": "markdown",
   "source": [
    "![Flowchart of Transfer Learning & Fine-Tuning](https://github.com/Hvass-Labs/TensorFlow-Tutorials/blob/master/images/10_transfer_learning_flowchart.png?raw=1)"
   ]
  },
  {
   "metadata": {
    "id": "UXUTMD4Ss26Y",
    "colab_type": "text"
   },
   "cell_type": "markdown",
   "source": [
    "## Imports"
   ]
  },
  {
   "metadata": {
    "id": "v_yKY_n5s26Y",
    "colab_type": "code",
    "colab": {}
   },
   "cell_type": "code",
   "source": [
    "%matplotlib inline\n",
    "import matplotlib.pyplot as plt\n",
    "import PIL\n",
    "import tensorflow as tf\n",
    "import numpy as np\n",
    "import pandas as pd\n",
    "import os\n",
    "from random import shuffle\n",
    "import requests\n",
    "from io import BytesIO\n",
    "import tarfile"
   ],
   "execution_count": null,
   "outputs": []
  },
  {
   "metadata": {
    "id": "fi5svFvms26c",
    "colab_type": "text"
   },
   "cell_type": "markdown",
   "source": [
    "These are the imports from the Keras API. Note the long format which can hopefully be shortened in the future to e.g. `from tf.keras.models import Model`."
   ]
  },
  {
   "metadata": {
    "id": "OB7CCtVBs26d",
    "colab_type": "code",
    "colab": {}
   },
   "cell_type": "code",
   "source": [
    "from keras.models import Model, Sequential\n",
    "from keras.layers import Dense, Flatten, Dropout\n",
    "from keras.applications import VGG16\n",
    "from keras.applications.vgg16 import preprocess_input, decode_predictions\n",
    "from keras.preprocessing.image import ImageDataGenerator\n",
    "from keras.optimizers import Adam, RMSprop"
   ],
   "execution_count": null,
   "outputs": []
  },
  {
   "metadata": {
    "id": "HRdF_peqs26f",
    "colab_type": "text"
   },
   "cell_type": "markdown",
   "source": [
    "This was developed using Python 3.6 and TensorFlow version:"
   ]
  },
  {
   "metadata": {
    "id": "geuXE0dAs26f",
    "colab_type": "code",
    "colab": {}
   },
   "cell_type": "code",
   "source": [
    "tf.__version__"
   ],
   "execution_count": null,
   "outputs": []
  },
  {
   "metadata": {
    "id": "KaKMHhV88WEf",
    "colab_type": "text"
   },
   "cell_type": "markdown",
   "source": [
    "Check that the GPU is enabled. If the following does not putput something like '/device:GPU:0', go to the *Runtime* menu and enable the GPU in the *Change runtime type* menu entry."
   ]
  },
  {
   "metadata": {
    "id": "L1LCp7Tv8W8Q",
    "colab_type": "code",
    "colab": {}
   },
   "cell_type": "code",
   "source": [
    "tf.test.gpu_device_name()"
   ],
   "execution_count": null,
   "outputs": []
  },
  {
   "metadata": {
    "id": "C2sF9AC0s26h",
    "colab_type": "text"
   },
   "cell_type": "markdown",
   "source": [
    "## Helper Functions"
   ]
  },
  {
   "metadata": {
    "id": "-W7G3uFK84w2",
    "colab_type": "text"
   },
   "cell_type": "markdown",
   "source": [
    "The following functions are used throughout the notebook, please execute all cells."
   ]
  },
  {
   "metadata": {
    "id": "Jfnqr620s26i",
    "colab_type": "text"
   },
   "cell_type": "markdown",
   "source": [
    "### Helper-function for joining a directory and list of filenames."
   ]
  },
  {
   "metadata": {
    "id": "ocGWGPqOs26j",
    "colab_type": "code",
    "colab": {}
   },
   "cell_type": "code",
   "source": [
    "def path_join(dirname, filenames):\n",
    "    return [os.path.join(dirname, filename) for filename in filenames]"
   ],
   "execution_count": null,
   "outputs": []
  },
  {
   "metadata": {
    "id": "Wa7Nuh9_s26l",
    "colab_type": "text"
   },
   "cell_type": "markdown",
   "source": [
    "### Helper-function for plotting images"
   ]
  },
  {
   "metadata": {
    "id": "qeBUeVNvs26l",
    "colab_type": "text"
   },
   "cell_type": "markdown",
   "source": [
    "Function used to plot at most 9 images in a 3x3 grid, and writing the true and predicted classes below each image."
   ]
  },
  {
   "metadata": {
    "id": "C95T8vQZs26l",
    "colab_type": "code",
    "colab": {}
   },
   "cell_type": "code",
   "source": [
    "def plot_images(images, cls_true, cls_pred=None, smooth=True):\n",
    "\n",
    "    assert len(images) == len(cls_true)\n",
    "\n",
    "    # Create figure with sub-plots.\n",
    "    fig, axes = plt.subplots(3, 3, figsize=(9, 9))\n",
    "\n",
    "    # Adjust vertical spacing.\n",
    "    if cls_pred is None:\n",
    "        hspace = 0.3\n",
    "    else:\n",
    "        hspace = 0.6\n",
    "    fig.subplots_adjust(hspace=hspace, wspace=0.3)\n",
    "\n",
    "    # Interpolation type.\n",
    "    if smooth:\n",
    "        interpolation = 'spline16'\n",
    "    else:\n",
    "        interpolation = 'nearest'\n",
    "\n",
    "    for i, ax in enumerate(axes.flat):\n",
    "        # There may be less than 9 images, ensure it doesn't crash.\n",
    "        if i < len(images):\n",
    "            # Plot image.\n",
    "            ax.imshow(images[i],\n",
    "                      interpolation=interpolation)\n",
    "\n",
    "            # Name of the true class.\n",
    "            cls_true_name = class_names[cls_true[i]]\n",
    "\n",
    "            # Show true and predicted classes.\n",
    "            if cls_pred is None:\n",
    "                xlabel = \"True: {0}\".format(cls_true_name)\n",
    "            else:\n",
    "                # Name of the predicted class.\n",
    "                cls_pred_name = class_names[cls_pred[i]]\n",
    "\n",
    "                xlabel = \"True: {0}\\nPred: {1}\".format(cls_true_name, cls_pred_name)\n",
    "\n",
    "            # Show the classes as the label on the x-axis.\n",
    "            ax.set_xlabel(xlabel)\n",
    "        \n",
    "        # Remove ticks from the plot.\n",
    "        ax.set_xticks([])\n",
    "        ax.set_yticks([])\n",
    "    \n",
    "    # Ensure the plot is shown correctly with multiple plots\n",
    "    # in a single Notebook cell.\n",
    "    plt.show()"
   ],
   "execution_count": null,
   "outputs": []
  },
  {
   "metadata": {
    "id": "IzYeMqKos26n",
    "colab_type": "text"
   },
   "cell_type": "markdown",
   "source": [
    "### Helper-function for printing confusion matrix"
   ]
  },
  {
   "metadata": {
    "id": "p5K4xPXYs26p",
    "colab_type": "code",
    "colab": {}
   },
   "cell_type": "code",
   "source": [
    "# Import a function from sklearn to calculate the confusion-matrix.\n",
    "from sklearn.metrics import confusion_matrix\n",
    "\n",
    "def print_confusion_matrix(cls_pred):\n",
    "    # cls_pred is an array of the predicted class-number for\n",
    "    # all images in the test-set.\n",
    "\n",
    "    # Get the confusion matrix using sklearn.\n",
    "    cm = confusion_matrix(y_true=cls_test,  # True class for test-set.\n",
    "                          y_pred=cls_pred)  # Predicted class.\n",
    "\n",
    "    print(\"Confusion matrix:\")\n",
    "    \n",
    "    # Print the confusion matrix as text.\n",
    "    print(cm)\n",
    "    \n",
    "    # Print the class-names for easy reference.\n",
    "    for i, class_name in enumerate(class_names):\n",
    "        print(\"({0}) {1}\".format(i, class_name))"
   ],
   "execution_count": null,
   "outputs": []
  },
  {
   "metadata": {
    "id": "5MQKAK7Zs26q",
    "colab_type": "text"
   },
   "cell_type": "markdown",
   "source": [
    "### Helper-function for plotting example errors\n",
    "\n",
    "Function for plotting examples of images from the test-set that have been mis-classified."
   ]
  },
  {
   "metadata": {
    "id": "VgwjDNmfs26r",
    "colab_type": "code",
    "colab": {}
   },
   "cell_type": "code",
   "source": [
    "def plot_example_errors(cls_pred):\n",
    "    # cls_pred is an array of the predicted class-number for\n",
    "    # all images in the test-set.\n",
    "\n",
    "    # Boolean array whether the predicted class is incorrect.\n",
    "    incorrect = (cls_pred != cls_test)\n",
    "\n",
    "    # Get the file-paths for images that were incorrectly classified.\n",
    "    image_paths = np.array(image_paths_test)[incorrect]\n",
    "\n",
    "    # Load the first 9 images.\n",
    "    images = load_images(image_paths=image_paths[0:9])\n",
    "    \n",
    "    # Get the predicted classes for those images.\n",
    "    cls_pred = cls_pred[incorrect]\n",
    "\n",
    "    # Get the true classes for those images.\n",
    "    cls_true = cls_test[incorrect]\n",
    "    \n",
    "    # Plot the 9 images we have loaded and their corresponding classes.\n",
    "    # We have only loaded 9 images so there is no need to slice those again.\n",
    "    plot_images(images=images,\n",
    "                cls_true=cls_true[0:9],\n",
    "                cls_pred=cls_pred[0:9])"
   ],
   "execution_count": null,
   "outputs": []
  },
  {
   "metadata": {
    "id": "Z7zBSplZs26v",
    "colab_type": "text"
   },
   "cell_type": "markdown",
   "source": [
    "Function for calculating the predicted classes of the entire test-set and calling the above function to plot a few examples of mis-classified images."
   ]
  },
  {
   "metadata": {
    "id": "8VVEm-qzs26v",
    "colab_type": "code",
    "colab": {}
   },
   "cell_type": "code",
   "source": [
    "def example_errors():\n",
    "    # The Keras data-generator for the test-set must be reset\n",
    "    # before processing. This is because the generator will loop\n",
    "    # infinitely and keep an internal index into the dataset.\n",
    "    # So it might start in the middle of the test-set if we do\n",
    "    # not reset it first. This makes it impossible to match the\n",
    "    # predicted classes with the input images.\n",
    "    # If we reset the generator, then it always starts at the\n",
    "    # beginning so we know exactly which input-images were used.\n",
    "    generator_test.reset()\n",
    "    \n",
    "    # Predict the classes for all images in the test-set.\n",
    "    y_pred = new_model.predict_generator(generator_test,\n",
    "                                         steps=steps_test)\n",
    "\n",
    "    # Convert the predicted classes from arrays to integers.\n",
    "    cls_pred = np.argmax(y_pred,axis=1)\n",
    "\n",
    "    # Plot examples of mis-classified images.\n",
    "    plot_example_errors(cls_pred)\n",
    "    \n",
    "    # Print the confusion matrix.\n",
    "    print_confusion_matrix(cls_pred)"
   ],
   "execution_count": null,
   "outputs": []
  },
  {
   "metadata": {
    "id": "fSddld25s26w",
    "colab_type": "text"
   },
   "cell_type": "markdown",
   "source": [
    "### Helper-function for loading images\n",
    "\n",
    "The data-set is not loaded into memory, instead it has a list of the files for the images in the training-set and another list of the files for the images in the test-set. This helper-function loads some image-files."
   ]
  },
  {
   "metadata": {
    "id": "0ZATUlXSs26x",
    "colab_type": "code",
    "colab": {}
   },
   "cell_type": "code",
   "source": [
    "def load_images(image_paths):\n",
    "    # Load the images from disk.\n",
    "    images = [plt.imread(path) for path in image_paths]\n",
    "\n",
    "    # Convert to a numpy array and return it.\n",
    "    return np.asarray(images)"
   ],
   "execution_count": null,
   "outputs": []
  },
  {
   "metadata": {
    "id": "2ya8KYpDs26y",
    "colab_type": "text"
   },
   "cell_type": "markdown",
   "source": [
    "### Helper-function for plotting training history\n",
    "\n",
    "This plots the classification accuracy and loss-values recorded during training with the Keras API."
   ]
  },
  {
   "metadata": {
    "id": "YjeVoFxqs26z",
    "colab_type": "code",
    "colab": {}
   },
   "cell_type": "code",
   "source": [
    "def plot_training_history(history):\n",
    "    # Get the classification accuracy and loss-value\n",
    "    # for the training-set.\n",
    "    acc = history.history['categorical_accuracy']\n",
    "    loss = history.history['loss']\n",
    "\n",
    "    # Get it for the validation-set (we only use the test-set).\n",
    "    val_acc = history.history['val_categorical_accuracy']\n",
    "    val_loss = history.history['val_loss']\n",
    "\n",
    "    # Plot the accuracy and loss-values for the training-set.\n",
    "    plt.plot(acc, linestyle='-', color='b', label='Training Acc.')\n",
    "    plt.plot(loss, 'o', color='b', label='Training Loss')\n",
    "    \n",
    "    # Plot it for the test-set.\n",
    "    plt.plot(val_acc, linestyle='--', color='r', label='Test Acc.')\n",
    "    plt.plot(val_loss, 'o', color='r', label='Test Loss')\n",
    "\n",
    "    # Plot title and legend.\n",
    "    plt.title('Training and Test Accuracy')\n",
    "    plt.legend()\n",
    "\n",
    "    # Ensure the plot shows correctly.\n",
    "    plt.show()"
   ],
   "execution_count": null,
   "outputs": []
  },
  {
   "metadata": {
    "id": "51ooRCkos260",
    "colab_type": "text"
   },
   "cell_type": "markdown",
   "source": [
    "## Dataset: Lego technic Bricks\n",
    "\n",
    "The dataset was generated from the fabulous [Rebrickable](https://rebrickable.com/) website by use of their API. For API access, [Scrapy](https://scrapy.org/) was used."
   ]
  },
  {
   "metadata": {
    "id": "VHrKrm95s262",
    "colab_type": "text"
   },
   "cell_type": "markdown",
   "source": [
    "Download and extract the dataset."
   ]
  },
  {
   "metadata": {
    "id": "Ay4fi5gWAUA2",
    "colab_type": "code",
    "colab": {}
   },
   "cell_type": "code",
   "source": [
    "r = requests.get('https://raw.githubusercontent.com/tobycheese/chOpen-ML-Workshop-2018/master/toyprojects/data/lego.tar')\n",
    "with tarfile.open(fileobj=BytesIO(r.content)) as tar:\n",
    "  tar.extractall(path='data/')"
   ],
   "execution_count": null,
   "outputs": []
  },
  {
   "metadata": {
    "id": "flq-JZFUI6uf",
    "colab_type": "text"
   },
   "cell_type": "markdown",
   "source": [
    "The directories where the images are now stored."
   ]
  },
  {
   "metadata": {
    "id": "_Ut2VaKvBnOz",
    "colab_type": "code",
    "colab": {}
   },
   "cell_type": "code",
   "source": [
    "train_dir = 'data/lego/train'\n",
    "test_dir = 'data/lego/test'"
   ],
   "execution_count": null,
   "outputs": []
  },
  {
   "metadata": {
    "id": "3-p7qqtGJHd_",
    "colab_type": "text"
   },
   "cell_type": "markdown",
   "source": [
    "Also download an example image used for illustration below."
   ]
  },
  {
   "metadata": {
    "id": "w9jTQ3pNgGGe",
    "colab_type": "code",
    "colab": {}
   },
   "cell_type": "code",
   "source": [
    "r = requests.get('https://raw.githubusercontent.com/Hvass-Labs/TensorFlow-Tutorials/master/images/parrot_cropped1.jpg')\n",
    "with open(\"data/parrot_cropped1.jpg\", 'wb') as f:\n",
    "    f.write(r.content)"
   ],
   "execution_count": null,
   "outputs": []
  },
  {
   "metadata": {
    "id": "6n84g0_4s27B",
    "colab_type": "text"
   },
   "cell_type": "markdown",
   "source": [
    "## Pre-Trained Model: VGG16\n",
    "\n",
    "The following creates an instance of the pre-trained VGG16 model using the Keras API. This automatically downloads the required files if you don't have them already.\n",
    "\n",
    "The VGG16 model contains a convolutional part and a fully-connected (or dense) part which is used for classification. If `include_top=True` then the whole VGG16 model is downloaded which is about 528 MB. If `include_top=False` then only the convolutional part of the VGG16 model is downloaded which is just 57 MB.\n",
    "\n",
    "We will try and use the pre-trained model for predicting the class of some images in our new dataset, so we have to download the full model, but if you have a slow internet connection, then you can modify the code below to use the smaller pre-trained model without the classification layers."
   ]
  },
  {
   "metadata": {
    "id": "w_LHwL2fs27B",
    "colab_type": "code",
    "colab": {}
   },
   "cell_type": "code",
   "source": [
    "model = VGG16(include_top=True, weights='imagenet')"
   ],
   "execution_count": null,
   "outputs": []
  },
  {
   "metadata": {
    "id": "LXH1WusKs27F",
    "colab_type": "text"
   },
   "cell_type": "markdown",
   "source": [
    "Keras uses a so-called data-generator for inputting data into the neural network, which will loop over the data for eternity.\n",
    "\n",
    "We have a small training-set so it helps to artificially inflate its size by making various transformations to the images. We use a built-in data-generator that can make these random transformations. This is also called an augmented dataset."
   ]
  },
  {
   "metadata": {
    "id": "HhtcdvYqs27D",
    "colab_type": "text"
   },
   "cell_type": "markdown",
   "source": [
    "## Input Pipeline\n",
    "\n",
    "The Keras API has its own way of creating the input pipeline for training a model using files.\n",
    "\n",
    "First we need to know the shape of the tensors expected as input by the pre-trained VGG16 model. In this case it is images of shape 224 x 224 x 3."
   ]
  },
  {
   "metadata": {
    "id": "-XnMQbQss27D",
    "colab_type": "code",
    "colab": {}
   },
   "cell_type": "code",
   "source": [
    "input_shape = model.layers[0].output_shape[1:3]\n",
    "input_shape"
   ],
   "execution_count": null,
   "outputs": []
  },
  {
   "metadata": {
    "id": "2HLKZ46Ws27F",
    "colab_type": "code",
    "colab": {}
   },
   "cell_type": "code",
   "source": [
    "datagen_train = ImageDataGenerator(\n",
    "      rescale=1./255,\n",
    "      rotation_range=180,\n",
    "      width_shift_range=0.1,\n",
    "      height_shift_range=0.1,\n",
    "      zoom_range=[0.9, 1.5],\n",
    "      horizontal_flip=True, # not sure if flipping makes sense for all lego bricks\n",
    "      vertical_flip=True,\n",
    "      fill_mode='nearest')"
   ],
   "execution_count": null,
   "outputs": []
  },
  {
   "metadata": {
    "id": "-qw_Tf-Ms27G",
    "colab_type": "text"
   },
   "cell_type": "markdown",
   "source": [
    "We also need a data-generator for the test-set, but this should not do any transformations to the images because we want to know the exact classification accuracy on those specific images. So we just rescale the pixel-values so they are between 0.0 and 1.0 because this is expected by the VGG16 model."
   ]
  },
  {
   "metadata": {
    "id": "Z7vVeIlfs27H",
    "colab_type": "code",
    "colab": {}
   },
   "cell_type": "code",
   "source": [
    "datagen_test = ImageDataGenerator(rescale=1./255)"
   ],
   "execution_count": null,
   "outputs": []
  },
  {
   "metadata": {
    "id": "6hnkq9yJs27J",
    "colab_type": "text"
   },
   "cell_type": "markdown",
   "source": [
    "The data-generators will return batches of images. Because the VGG16 model is so large, the batch-size cannot be too large, otherwise you will run out of RAM on the GPU."
   ]
  },
  {
   "metadata": {
    "id": "traj7iT4s27J",
    "colab_type": "code",
    "colab": {}
   },
   "cell_type": "code",
   "source": [
    "batch_size = 32"
   ],
   "execution_count": null,
   "outputs": []
  },
  {
   "metadata": {
    "id": "70gqHJJ2s27L",
    "colab_type": "text"
   },
   "cell_type": "markdown",
   "source": [
    "We can save the randomly transformed images during training, so as to inspect whether they have been overly distorted, so we have to adjust the parameters for the data-generator above."
   ]
  },
  {
   "metadata": {
    "id": "Vjq3Df0Es27M",
    "colab_type": "code",
    "colab": {}
   },
   "cell_type": "code",
   "source": [
    "if True:\n",
    "    save_to_dir = None\n",
    "else:\n",
    "    save_to_dir='augmented_images/'"
   ],
   "execution_count": null,
   "outputs": []
  },
  {
   "metadata": {
    "id": "SgDnyH8hs27O",
    "colab_type": "text"
   },
   "cell_type": "markdown",
   "source": [
    "Now we create the actual data-generator that will read files from disk, resize the images and return a random batch.\n",
    "\n",
    "It is somewhat awkward that the construction of the data-generator is split into these two steps, but it is probably because there are different kinds of data-generators available for different data-types (images, text, etc.) and sources (memory or disk)."
   ]
  },
  {
   "metadata": {
    "id": "efIbz0EOs27O",
    "colab_type": "code",
    "colab": {}
   },
   "cell_type": "code",
   "source": [
    "generator_train = datagen_train.flow_from_directory(directory=train_dir,\n",
    "                                                    target_size=input_shape,\n",
    "                                                    batch_size=batch_size,\n",
    "                                                    shuffle=True,\n",
    "                                                    save_to_dir=save_to_dir)"
   ],
   "execution_count": null,
   "outputs": []
  },
  {
   "metadata": {
    "id": "Rk36kOMWs27R",
    "colab_type": "text"
   },
   "cell_type": "markdown",
   "source": [
    "The data-generator for the test-set should not transform and shuffle the images."
   ]
  },
  {
   "metadata": {
    "id": "r8FEttEss27S",
    "colab_type": "code",
    "colab": {}
   },
   "cell_type": "code",
   "source": [
    "generator_test = datagen_test.flow_from_directory(directory=test_dir,\n",
    "                                                  target_size=input_shape,\n",
    "                                                  batch_size=batch_size,\n",
    "                                                  shuffle=False)"
   ],
   "execution_count": null,
   "outputs": []
  },
  {
   "metadata": {
    "id": "4x6OnOBIs27T",
    "colab_type": "text"
   },
   "cell_type": "markdown",
   "source": [
    "Because the data-generators will loop for eternity, we need to specify the number of steps to perform during evaluation and prediction on the test-set. Because our test-set contains 380 images and the batch-size is set to 32, the number of steps is 12 for one full processing of the test-set. This is why we need to reset the data-generator's counter in the `example_errors()` function above, so it always starts processing from the beginning of the test-set.\n",
    "\n",
    "This is another slightly awkward aspect of the Keras API which could perhaps be improved."
   ]
  },
  {
   "metadata": {
    "id": "VbfG5gc2s27U",
    "colab_type": "code",
    "colab": {}
   },
   "cell_type": "code",
   "source": [
    "steps_test = generator_test.n / batch_size\n",
    "steps_test"
   ],
   "execution_count": null,
   "outputs": []
  },
  {
   "metadata": {
    "id": "lbmoQIqus27V",
    "colab_type": "text"
   },
   "cell_type": "markdown",
   "source": [
    "Get the file-paths for all the images in the training- and test-sets."
   ]
  },
  {
   "metadata": {
    "id": "Fl0rDIlhs27W",
    "colab_type": "code",
    "colab": {}
   },
   "cell_type": "code",
   "source": [
    "image_paths_train = path_join(train_dir, generator_train.filenames)\n",
    "image_paths_test = path_join(test_dir, generator_test.filenames)"
   ],
   "execution_count": null,
   "outputs": []
  },
  {
   "metadata": {
    "id": "IcVnyhHTs27Z",
    "colab_type": "text"
   },
   "cell_type": "markdown",
   "source": [
    "Get the class-numbers for all the images in the training- and test-sets."
   ]
  },
  {
   "metadata": {
    "id": "U-9TmGdss27Z",
    "colab_type": "code",
    "colab": {}
   },
   "cell_type": "code",
   "source": [
    "cls_train = generator_train.classes\n",
    "cls_test = generator_test.classes"
   ],
   "execution_count": null,
   "outputs": []
  },
  {
   "metadata": {
    "id": "adRijOtJs27c",
    "colab_type": "text"
   },
   "cell_type": "markdown",
   "source": [
    "Get the class-names for the dataset."
   ]
  },
  {
   "metadata": {
    "id": "uChyyWehs27d",
    "colab_type": "code",
    "colab": {}
   },
   "cell_type": "code",
   "source": [
    "class_names = list(generator_train.class_indices.keys())\n",
    "class_names"
   ],
   "execution_count": null,
   "outputs": []
  },
  {
   "metadata": {
    "id": "vm4RDJ8ys27f",
    "colab_type": "text"
   },
   "cell_type": "markdown",
   "source": [
    "Get the number of classes for the dataset."
   ]
  },
  {
   "metadata": {
    "id": "x0jUVr8Fs27f",
    "colab_type": "code",
    "colab": {}
   },
   "cell_type": "code",
   "source": [
    "num_classes = generator_train.num_classes\n",
    "num_classes"
   ],
   "execution_count": null,
   "outputs": []
  },
  {
   "metadata": {
    "id": "1oM8sFCKYTjS",
    "colab_type": "text"
   },
   "cell_type": "markdown",
   "source": [
    "Plot a few images to see if data is correct. You can execute this cell multiple times to see different sets."
   ]
  },
  {
   "metadata": {
    "id": "3rye-vhCs27h",
    "colab_type": "code",
    "colab": {}
   },
   "cell_type": "code",
   "source": [
    "# get some random images\n",
    "indices = list(range(len(image_paths_train)))\n",
    "shuffle(indices)\n",
    "indices = indices[0:9]\n",
    "\n",
    "# Load the first images from the train-set.\n",
    "images = load_images(image_paths=[image_paths_train[i] for i in indices])\n",
    "\n",
    "# Get the true classes for those images.\n",
    "cls_true = [cls_train[i] for i in indices]\n",
    "\n",
    "# Plot the images and labels using our helper-function above.\n",
    "plot_images(images=images, cls_true=cls_true, smooth=True)"
   ],
   "execution_count": null,
   "outputs": []
  },
  {
   "metadata": {
    "id": "pjoS9zBMs27i",
    "colab_type": "text"
   },
   "cell_type": "markdown",
   "source": [
    "### Class Weights\n",
    "\n",
    "The Lego dataset is somewhat imbalanced, as the counts per class in the following cell show. This can cause a problem during training because the neural network will be shown many more examples of the more frequent classes, so it might become better at recognizing those.\n",
    "\n",
    "Here we use scikit-learn to calculate weights that will properly balance the dataset. These weights are applied to the gradient for each image in the batch during training, so as to scale their influence on the overall gradient for the batch."
   ]
  },
  {
   "metadata": {
    "id": "9ynTxy3DaJOT",
    "colab_type": "code",
    "colab": {}
   },
   "cell_type": "code",
   "source": [
    "pd.Series(cls_train).value_counts().sort_index() # counts for all classes"
   ],
   "execution_count": null,
   "outputs": []
  },
  {
   "metadata": {
    "id": "6xuN5bVZs27j",
    "colab_type": "code",
    "colab": {}
   },
   "cell_type": "code",
   "source": [
    "from sklearn.utils.class_weight import compute_class_weight"
   ],
   "execution_count": null,
   "outputs": []
  },
  {
   "metadata": {
    "id": "CxwFaUNFs27k",
    "colab_type": "code",
    "colab": {}
   },
   "cell_type": "code",
   "source": [
    "class_weight = compute_class_weight(class_weight='balanced',\n",
    "                                    classes=np.unique(cls_train),\n",
    "                                    y=cls_train)"
   ],
   "execution_count": null,
   "outputs": []
  },
  {
   "metadata": {
    "id": "sT_zCjEos27o",
    "colab_type": "text"
   },
   "cell_type": "markdown",
   "source": [
    "Note that the second, third and last classes, which are the more numerous ones, have smaller fractions. The gradient should be lowered for those."
   ]
  },
  {
   "metadata": {
    "id": "JwAHt7u9s27o",
    "colab_type": "code",
    "colab": {}
   },
   "cell_type": "code",
   "source": [
    "class_weight"
   ],
   "execution_count": null,
   "outputs": []
  },
  {
   "metadata": {
    "id": "VLOfasJPs27r",
    "colab_type": "code",
    "colab": {}
   },
   "cell_type": "code",
   "source": [
    "class_names"
   ],
   "execution_count": null,
   "outputs": []
  },
  {
   "metadata": {
    "id": "rY3WWxgWs27u",
    "colab_type": "text"
   },
   "cell_type": "markdown",
   "source": [
    "## Example Predictions\n",
    "\n",
    "Here we will show a few examples of using the pre-trained VGG16 model for prediction.\n",
    "\n",
    "We need a helper-function for loading and resizing an image so it can be input to the VGG16 model, as well as doing the actual prediction and showing the result."
   ]
  },
  {
   "metadata": {
    "id": "QtH-YRtAs27v",
    "colab_type": "code",
    "colab": {}
   },
   "cell_type": "code",
   "source": [
    "def predict(image_path):\n",
    "    # Load and resize the image using PIL.\n",
    "    img = PIL.Image.open(image_path)\n",
    "    img_resized = img.resize(input_shape, PIL.Image.LANCZOS)\n",
    "\n",
    "    # Plot the image.\n",
    "    plt.imshow(img_resized)\n",
    "    plt.show()\n",
    "\n",
    "    # Convert the PIL image to a numpy-array with the proper shape.\n",
    "    img_array = np.expand_dims(np.array(img_resized), axis=0)\n",
    "\n",
    "    # Use the VGG16 model to make a prediction.\n",
    "    # This outputs an array with 1000 numbers corresponding to\n",
    "    # the classes of the ImageNet-dataset.\n",
    "    pred = model.predict(img_array)\n",
    "    \n",
    "    # Decode the output of the VGG16 model.\n",
    "    pred_decoded = decode_predictions(pred)[0]\n",
    "\n",
    "    # Print the predictions.\n",
    "    for code, name, score in pred_decoded:\n",
    "        print(\"{0:>6.2%} : {1}\".format(score, name))"
   ],
   "execution_count": null,
   "outputs": []
  },
  {
   "metadata": {
    "id": "0HZgVNO5s27w",
    "colab_type": "text"
   },
   "cell_type": "markdown",
   "source": [
    "We can then use the VGG16 model on a picture of a parrot which is classified as a macaw (a parrot species) with a fairly high score of 79%."
   ]
  },
  {
   "metadata": {
    "id": "E1tGQPXws27x",
    "colab_type": "code",
    "colab": {}
   },
   "cell_type": "code",
   "source": [
    "predict(image_path='data/parrot_cropped1.jpg')"
   ],
   "execution_count": null,
   "outputs": []
  },
  {
   "metadata": {
    "id": "qtTBjKmzs27y",
    "colab_type": "text"
   },
   "cell_type": "markdown",
   "source": [
    "We can then use the VGG16 model to predict the class of one of the images in our new training-set. The VGG16 model makes a good approximation, but of course it does not know about Lego bricks."
   ]
  },
  {
   "metadata": {
    "id": "zROexUkJs27z",
    "colab_type": "code",
    "colab": {}
   },
   "cell_type": "code",
   "source": [
    "predict(image_path=image_paths_train[0])"
   ],
   "execution_count": null,
   "outputs": []
  },
  {
   "metadata": {
    "id": "2jYtLt-ys272",
    "colab_type": "text"
   },
   "cell_type": "markdown",
   "source": [
    "We can try it for another image in our new training-set and the VGG16 model is still confused."
   ]
  },
  {
   "metadata": {
    "id": "KdP0fwBxs273",
    "colab_type": "code",
    "colab": {}
   },
   "cell_type": "code",
   "source": [
    "predict(image_path=image_paths_train[816])"
   ],
   "execution_count": null,
   "outputs": []
  },
  {
   "metadata": {
    "id": "iy7ClC0Xs274",
    "colab_type": "text"
   },
   "cell_type": "markdown",
   "source": [
    "We can also try an image from our new test-set, and again the VGG16 model is very confused."
   ]
  },
  {
   "metadata": {
    "id": "1ZXFehpPs275",
    "colab_type": "code",
    "colab": {}
   },
   "cell_type": "code",
   "source": [
    "predict(image_path=image_paths_test[74])"
   ],
   "execution_count": null,
   "outputs": []
  },
  {
   "metadata": {
    "id": "m-Fl9N_As276",
    "colab_type": "text"
   },
   "cell_type": "markdown",
   "source": [
    "## Transfer Learning\n",
    "\n",
    "The pre-trained VGG16 model was unable to classify images from the Lego dataset.\n",
    "\n",
    "The lower layers of a Convolutional Neural Network can recognize many different shapes or features in an image. It is the last few fully-connected layers that combine these featuers into classification of a whole image. So we can try and re-route the output of the last convolutional layer of the VGG16 model to a new fully-connected neural network that we create for doing classification on the Lego dataset.\n",
    "\n",
    "First we print a summary of the VGG16 model so we can see the names and types of its layers, as well as the shapes of the tensors flowing between the layers. The VGG16 model used in this tutorial is fairly simple, so this type of visualisation works well."
   ]
  },
  {
   "metadata": {
    "id": "u4WyJezUs276",
    "colab_type": "code",
    "colab": {}
   },
   "cell_type": "code",
   "source": [
    "model.summary()"
   ],
   "execution_count": null,
   "outputs": []
  },
  {
   "metadata": {
    "id": "bXg7ICRis27-",
    "colab_type": "text"
   },
   "cell_type": "markdown",
   "source": [
    "We can see that the last convolutional layer is called 'block5_pool' so we use Keras to get a reference to that layer."
   ]
  },
  {
   "metadata": {
    "id": "Q8Eu6icws27-",
    "colab_type": "code",
    "colab": {}
   },
   "cell_type": "code",
   "source": [
    "transfer_layer = model.get_layer('block5_pool')"
   ],
   "execution_count": null,
   "outputs": []
  },
  {
   "metadata": {
    "id": "Qt45R7xqs27_",
    "colab_type": "text"
   },
   "cell_type": "markdown",
   "source": [
    "We refer to this layer as the Transfer Layer because its output will be re-routed to our new fully-connected neural network which will do the classification for the Lego dataset.\n",
    "\n",
    "The output of the transfer layer has the following shape:"
   ]
  },
  {
   "metadata": {
    "id": "uqTKfJcEs28A",
    "colab_type": "code",
    "colab": {}
   },
   "cell_type": "code",
   "source": [
    "transfer_layer.output"
   ],
   "execution_count": null,
   "outputs": []
  },
  {
   "metadata": {
    "id": "CJK873hos28B",
    "colab_type": "text"
   },
   "cell_type": "markdown",
   "source": [
    "Using the Keras API it is very simple to create a new model. First we take the part of the VGG16 model from its input-layer to the output of the transfer-layer. We may call this the convolutional model, because it consists of all the convolutional layers from the VGG16 model."
   ]
  },
  {
   "metadata": {
    "id": "0Xk5KyXts28C",
    "colab_type": "code",
    "colab": {}
   },
   "cell_type": "code",
   "source": [
    "conv_model = Model(inputs=model.input,\n",
    "                   outputs=transfer_layer.output)"
   ],
   "execution_count": null,
   "outputs": []
  },
  {
   "metadata": {
    "id": "eyxe3bOQs28E",
    "colab_type": "text"
   },
   "cell_type": "markdown",
   "source": [
    "We can then use Keras to build a new model on top of this."
   ]
  },
  {
   "metadata": {
    "id": "B92Bb2qls28F",
    "colab_type": "code",
    "colab": {}
   },
   "cell_type": "code",
   "source": [
    "# Start a new Keras Sequential model.\n",
    "new_model = Sequential()\n",
    "\n",
    "# Add the convolutional part of the VGG16 model from above.\n",
    "new_model.add(conv_model)\n",
    "\n",
    "# Flatten the output of the VGG16 model because it is from a\n",
    "# convolutional layer.\n",
    "new_model.add(Flatten())\n",
    "\n",
    "# Add a dense (aka. fully-connected) layer.\n",
    "# This is for combining features that the VGG16 model has\n",
    "# recognized in the image.\n",
    "new_model.add(Dense(1024, activation='relu'))\n",
    "\n",
    "# Add a dropout-layer which may prevent overfitting and\n",
    "# improve generalization ability to unseen data e.g. the test-set.\n",
    "new_model.add(Dropout(0.5))\n",
    "\n",
    "# Add the final layer for the actual classification.\n",
    "new_model.add(Dense(num_classes, activation='softmax'))"
   ],
   "execution_count": null,
   "outputs": []
  },
  {
   "metadata": {
    "id": "qenGyUxUs28G",
    "colab_type": "text"
   },
   "cell_type": "markdown",
   "source": [
    "We use the Adam optimizer with a fairly low learning-rate. The learning-rate could perhaps be larger. But if you try and train more layers of the original VGG16 model, then the learning-rate should be quite low otherwise the pre-trained weights of the VGG16 model will be distorted and it will be unable to learn."
   ]
  },
  {
   "metadata": {
    "id": "dk5jDkKXs28G",
    "colab_type": "code",
    "colab": {}
   },
   "cell_type": "code",
   "source": [
    "optimizer = Adam(lr=1e-5)"
   ],
   "execution_count": null,
   "outputs": []
  },
  {
   "metadata": {
    "id": "svKvi6w8s28H",
    "colab_type": "text"
   },
   "cell_type": "markdown",
   "source": [
    "We have 5 classes in the Lego dataset so Keras needs to use this loss-function."
   ]
  },
  {
   "metadata": {
    "id": "_Wil8rgLs28H",
    "colab_type": "code",
    "colab": {}
   },
   "cell_type": "code",
   "source": [
    "loss = 'categorical_crossentropy'"
   ],
   "execution_count": null,
   "outputs": []
  },
  {
   "metadata": {
    "id": "nqqMFIPMs28J",
    "colab_type": "text"
   },
   "cell_type": "markdown",
   "source": [
    "The only performance metric we are interested in is the classification accuracy."
   ]
  },
  {
   "metadata": {
    "id": "tP4tAIdcs28K",
    "colab_type": "code",
    "colab": {}
   },
   "cell_type": "code",
   "source": [
    "metrics = ['categorical_accuracy']"
   ],
   "execution_count": null,
   "outputs": []
  },
  {
   "metadata": {
    "id": "WRUG-mVCs28M",
    "colab_type": "text"
   },
   "cell_type": "markdown",
   "source": [
    "Helper-function for printing whether a layer in the VGG16 model should be trained."
   ]
  },
  {
   "metadata": {
    "id": "Kn107T6vs28M",
    "colab_type": "code",
    "colab": {}
   },
   "cell_type": "code",
   "source": [
    "def print_layer_trainable():\n",
    "    for layer in conv_model.layers:\n",
    "        print(\"{0}:\\t{1}\".format(layer.trainable, layer.name))"
   ],
   "execution_count": null,
   "outputs": []
  },
  {
   "metadata": {
    "id": "vfMHjPnas28O",
    "colab_type": "text"
   },
   "cell_type": "markdown",
   "source": [
    "By default all the layers of the VGG16 model are trainable."
   ]
  },
  {
   "metadata": {
    "id": "cr2_r9hUs28O",
    "colab_type": "code",
    "colab": {}
   },
   "cell_type": "code",
   "source": [
    "print_layer_trainable()"
   ],
   "execution_count": null,
   "outputs": []
  },
  {
   "metadata": {
    "id": "44qBkSSOs28Q",
    "colab_type": "text"
   },
   "cell_type": "markdown",
   "source": [
    "In Transfer Learning we are initially only interested in reusing the pre-trained VGG16 model as it is, so we will disable training for all its layers."
   ]
  },
  {
   "metadata": {
    "id": "Rwcpxaz-s28Q",
    "colab_type": "code",
    "colab": {}
   },
   "cell_type": "code",
   "source": [
    "conv_model.trainable = False"
   ],
   "execution_count": null,
   "outputs": []
  },
  {
   "metadata": {
    "id": "6M1jtW96s28S",
    "colab_type": "code",
    "colab": {}
   },
   "cell_type": "code",
   "source": [
    "for layer in conv_model.layers:\n",
    "    layer.trainable = False"
   ],
   "execution_count": null,
   "outputs": []
  },
  {
   "metadata": {
    "id": "UE1hB9YMs28U",
    "colab_type": "code",
    "colab": {}
   },
   "cell_type": "code",
   "source": [
    "print_layer_trainable()"
   ],
   "execution_count": null,
   "outputs": []
  },
  {
   "metadata": {
    "id": "BDSqbCMus28V",
    "colab_type": "text"
   },
   "cell_type": "markdown",
   "source": [
    "Once we have changed whether the model's layers are trainable, we need to compile the model for the changes to take effect."
   ]
  },
  {
   "metadata": {
    "id": "-vhKl0das28W",
    "colab_type": "code",
    "colab": {}
   },
   "cell_type": "code",
   "source": [
    "new_model.compile(optimizer=optimizer, loss=loss, metrics=metrics)"
   ],
   "execution_count": null,
   "outputs": []
  },
  {
   "metadata": {
    "id": "adC5cx54s28X",
    "colab_type": "text"
   },
   "cell_type": "markdown",
   "source": [
    "An epoch normally means one full processing of the training-set. But the data-generator that we created above, will produce batches of training-data for eternity. So we need to define the number of steps we want to run for each \"epoch\" and this number gets multiplied by the batch-size defined above. In this case we have 75 steps per epoch and a batch-size of 32, so the \"epoch\" consists of 75*32=2400 random images from the training-set. We run 10 such \"epochs\".\n",
    "\n",
    "The reason these particular numbers were chosen was because with those numbers training is sufficiently fast for the scope of the exercise  and accuracy is reasonably close to optimal."
   ]
  },
  {
   "metadata": {
    "id": "NVYZrWR2s28Y",
    "colab_type": "code",
    "colab": {}
   },
   "cell_type": "code",
   "source": [
    "epochs = 10\n",
    "steps_per_epoch = 75"
   ],
   "execution_count": null,
   "outputs": []
  },
  {
   "metadata": {
    "id": "_Hf4bu4Ts28Z",
    "colab_type": "text"
   },
   "cell_type": "markdown",
   "source": [
    "Training the new model is just a single function call in the Keras API. This takes about 8 minutes on Goolge Colab when using a GPU."
   ]
  },
  {
   "metadata": {
    "id": "3LJ3KMT8s28Z",
    "colab_type": "code",
    "colab": {}
   },
   "cell_type": "code",
   "source": [
    "history = new_model.fit_generator(generator=generator_train,\n",
    "                                  epochs=epochs,\n",
    "                                  steps_per_epoch=steps_per_epoch,\n",
    "                                  class_weight=class_weight,\n",
    "                                  validation_data=generator_test,\n",
    "                                  validation_steps=steps_test)"
   ],
   "execution_count": null,
   "outputs": []
  },
  {
   "metadata": {
    "id": "5P7hSDWDs28b",
    "colab_type": "text"
   },
   "cell_type": "markdown",
   "source": [
    "Keras records the performance metrics at the end of each \"epoch\" so they can be plotted later. This shows that the loss-value for the training-set generally decreased during training, but the loss-values for the test-set were a bit more erratic. Similarly, the classification accuracy generally improved on the training-set while it was a bit more erratic on the test-set."
   ]
  },
  {
   "metadata": {
    "id": "fzRgPagas28b",
    "colab_type": "code",
    "colab": {}
   },
   "cell_type": "code",
   "source": [
    "plot_training_history(history)"
   ],
   "execution_count": null,
   "outputs": []
  },
  {
   "metadata": {
    "id": "j0L0nqAss28d",
    "colab_type": "text"
   },
   "cell_type": "markdown",
   "source": [
    "Please note that when looking at the learning curve, we should probably increase the number of epochs and/or the steps per epoch, as the curve has not yet flattened out. But for the sake of the exercise, we will not do it here.\n",
    "\n",
    "After training we can also evaluate the new model's performance on the test-set using a single function call in the Keras API."
   ]
  },
  {
   "metadata": {
    "id": "Q3zq8unls28d",
    "colab_type": "code",
    "colab": {}
   },
   "cell_type": "code",
   "source": [
    "result = new_model.evaluate_generator(generator_test, steps=steps_test)"
   ],
   "execution_count": null,
   "outputs": []
  },
  {
   "metadata": {
    "id": "n7ojprFKs28e",
    "colab_type": "code",
    "colab": {}
   },
   "cell_type": "code",
   "source": [
    "print(\"Test-set classification accuracy: {0:.2%}\".format(result[1]))"
   ],
   "execution_count": null,
   "outputs": []
  },
  {
   "metadata": {
    "id": "FzdRwzb_s28g",
    "colab_type": "text"
   },
   "cell_type": "markdown",
   "source": [
    "We can plot some examples of mis-classified images from the test-set.\n",
    "\n",
    "The confusion matrix (entries in the diagonal from top left to bottom right are correctly classified. The first row shows all predictions for the first class, and so on) and plot show that the new model is confusing axles and connectors with beams and mixing up connectors with panels. The latter intuitively makes sense, because many of the more special connectors look similar to the smalller panels. Gears seem, unsurprisingly, least problematic."
   ]
  },
  {
   "metadata": {
    "id": "egEwCNjts28h",
    "colab_type": "code",
    "colab": {}
   },
   "cell_type": "code",
   "source": [
    "example_errors()"
   ],
   "execution_count": null,
   "outputs": []
  },
  {
   "metadata": {
    "id": "kOSLq3XWs28i",
    "colab_type": "text"
   },
   "cell_type": "markdown",
   "source": [
    "## Fine-Tuning\n",
    "\n",
    "In Transfer Learning the original pre-trained model is locked or frozen during training of the new classifier. This ensures that the weights of the original VGG16 model will not change. One advantage of this, is that the training of the new classifier will not propagate large gradients back through the VGG16 model that may either distort its weights or cause overfitting to the new dataset.\n",
    "\n",
    "But once the new classifier has been trained we can try and gently fine-tune some of the deeper layers in the VGG16 model as well. We call this Fine-Tuning.\n",
    "\n",
    "It is a bit unclear whether Keras uses the `trainable` boolean in each layer of the original VGG16 model or if it is overrided by the `trainable` boolean in the \"meta-layer\" we call `conv_layer`. So we will enable the `trainable` boolean for both `conv_layer` and all the relevant layers in the original VGG16 model."
   ]
  },
  {
   "metadata": {
    "id": "I2MM7FuOs28j",
    "colab_type": "code",
    "colab": {}
   },
   "cell_type": "code",
   "source": [
    "conv_model.trainable = True"
   ],
   "execution_count": null,
   "outputs": []
  },
  {
   "metadata": {
    "id": "QSY9l4QCs28k",
    "colab_type": "text"
   },
   "cell_type": "markdown",
   "source": [
    "We want to train the last two convolutional layers whose names contain 'block5' or 'block4'."
   ]
  },
  {
   "metadata": {
    "id": "2Zf2sgUBs28k",
    "colab_type": "code",
    "colab": {}
   },
   "cell_type": "code",
   "source": [
    "for layer in conv_model.layers:\n",
    "    # Boolean whether this layer is trainable.\n",
    "    trainable = ('block5' in layer.name or 'block4' in layer.name)\n",
    "    \n",
    "    # Set the layer's bool.\n",
    "    layer.trainable = trainable"
   ],
   "execution_count": null,
   "outputs": []
  },
  {
   "metadata": {
    "id": "wuFJ66mQs28l",
    "colab_type": "text"
   },
   "cell_type": "markdown",
   "source": [
    "We can check that this has updated the `trainable` boolean for the relevant layers."
   ]
  },
  {
   "metadata": {
    "id": "8G8nI2WWs28l",
    "colab_type": "code",
    "colab": {}
   },
   "cell_type": "code",
   "source": [
    "print_layer_trainable()"
   ],
   "execution_count": null,
   "outputs": []
  },
  {
   "metadata": {
    "id": "Ifj7xJ8Ns28m",
    "colab_type": "text"
   },
   "cell_type": "markdown",
   "source": [
    "We will use a lower learning-rate for the fine-tuning so the weights of the original VGG16 model only get changed slowly."
   ]
  },
  {
   "metadata": {
    "id": "PUgulJqMs28n",
    "colab_type": "code",
    "colab": {}
   },
   "cell_type": "code",
   "source": [
    "optimizer_fine = Adam(lr=1e-7)"
   ],
   "execution_count": null,
   "outputs": []
  },
  {
   "metadata": {
    "id": "C93-i9sYs28n",
    "colab_type": "text"
   },
   "cell_type": "markdown",
   "source": [
    "Because we have defined a new optimizer and have changed the `trainable` boolean for many of the layers in the model, we need to recompile the model so the changes can take effect before we continue training."
   ]
  },
  {
   "metadata": {
    "id": "lTN5dEPgs28o",
    "colab_type": "code",
    "colab": {}
   },
   "cell_type": "code",
   "source": [
    "new_model.compile(optimizer=optimizer_fine, loss=loss, metrics=metrics)"
   ],
   "execution_count": null,
   "outputs": []
  },
  {
   "metadata": {
    "id": "nkkfRia1s28r",
    "colab_type": "text"
   },
   "cell_type": "markdown",
   "source": [
    "The training can then be continued so as to fine-tune the VGG16 model along with the new classifier. But we shorten the training time a bit, since more epochs do not seem to make much diffference here."
   ]
  },
  {
   "metadata": {
    "id": "keXg9H6K_hUe",
    "colab_type": "code",
    "colab": {}
   },
   "cell_type": "code",
   "source": [
    "epochs = 5\n",
    "steps_per_epoch = 75"
   ],
   "execution_count": null,
   "outputs": []
  },
  {
   "metadata": {
    "id": "GTa0VVCIs28s",
    "colab_type": "code",
    "colab": {}
   },
   "cell_type": "code",
   "source": [
    "history = new_model.fit_generator(generator=generator_train,\n",
    "                                  epochs=epochs,\n",
    "                                  steps_per_epoch=steps_per_epoch,\n",
    "                                  class_weight=class_weight,\n",
    "                                  validation_data=generator_test,\n",
    "                                  validation_steps=steps_test)"
   ],
   "execution_count": null,
   "outputs": []
  },
  {
   "metadata": {
    "id": "MNY40LXFs28u",
    "colab_type": "text"
   },
   "cell_type": "markdown",
   "source": [
    "We can then plot the loss-values and classification accuracy from the training. Depending on the dataset, the original model, the new classifier, and hyper-parameters such as the learning-rate, this may improve the classification accuracies on both training- and test-set, or it may improve on the training-set but worsen it for the test-set in case of overfitting. It may require some experimentation with the parameters to get this right."
   ]
  },
  {
   "metadata": {
    "id": "Y4WD-NDws28u",
    "colab_type": "code",
    "colab": {}
   },
   "cell_type": "code",
   "source": [
    "plot_training_history(history)"
   ],
   "execution_count": null,
   "outputs": []
  },
  {
   "metadata": {
    "id": "xlxLl-Kis28w",
    "colab_type": "code",
    "colab": {}
   },
   "cell_type": "code",
   "source": [
    "result = new_model.evaluate_generator(generator_test, steps=steps_test)"
   ],
   "execution_count": null,
   "outputs": []
  },
  {
   "metadata": {
    "id": "VhG3LnmOs28x",
    "colab_type": "code",
    "colab": {}
   },
   "cell_type": "code",
   "source": [
    "print(\"Test-set classification accuracy: {0:.2%}\".format(result[1]))"
   ],
   "execution_count": null,
   "outputs": []
  },
  {
   "metadata": {
    "id": "xWFi1e0qs28y",
    "colab_type": "text"
   },
   "cell_type": "markdown",
   "source": [
    "We can plot some examples of mis-classified images again, and we can also see from the plot and confusion matrix that the model is still having problems classifying short beams correctly."
   ]
  },
  {
   "metadata": {
    "id": "1L1HjHC4s28y",
    "colab_type": "code",
    "colab": {}
   },
   "cell_type": "code",
   "source": [
    "example_errors()"
   ],
   "execution_count": null,
   "outputs": []
  },
  {
   "metadata": {
    "id": "mkNxvqSvs28z",
    "colab_type": "text"
   },
   "cell_type": "markdown",
   "source": [
    "## Conclusion\n",
    "\n",
    "This tutorial showed how to use the Keras API for TensorFlow to do both Transfer Learning and Fine-Tuning of the pre-trained VGG16 model on a new dataset. It is much easier to implement this using the Keras API rather than directly in TensorFlow.\n",
    "\n",
    "Whether Fine-Tuning improves the classification accuracy over just using Transfer Learning depends on the pre-trained model, the transfer-layer you choose, your dataset, and how you train the new model. You may experience improved performance from the fine-tuning, or you may experience worse performance if the fine-tuned model is overfitting your training-data."
   ]
  },
  {
   "metadata": {
    "id": "-hSdmc-Xs28z",
    "colab_type": "text"
   },
   "cell_type": "markdown",
   "source": [
    "## Exercises\n",
    "\n",
    "These are a few suggestions for exercises that may help improve your skills with TensorFlow. It is important to get hands-on experience with TensorFlow in order to learn how to use it properly.\n",
    "\n",
    "You may want to backup this Notebook and the other files before making any changes.\n",
    "\n",
    "* Try using other layers in the VGG16 model as the transfer layer. How does it affect the training and classification accuracy?\n",
    "* Change the new classification layers we added. Can you improve the classification accuracy by either increasing or decreasing the number of nodes in the fully-connected / dense layer?\n",
    "* What happens if you remove the Dropout-layer in the new classifier?\n",
    "* Change the learning-rates for both Transfer Learning and Fine-Tuning.\n",
    "* Try fine-tuning on the whole VGG16 model instead of just the last few layers. How does it affect the classification accuracy on the training- and test-sets? Why?\n",
    "* Try doing the fine-tuning from the beginning so the new classification layers are trained from scratch along with all the convolutional layers of the VGG16 model. You may need to lower the learning-rate for the optimizer.\n",
    "* Add a few images from the test-set to the training-set. Does that improve performance?\n",
    "* Use another dataset.\n",
    "* Use another pre-trained model available from Keras.\n",
    "* Explain to a friend how the program works."
   ]
  },
  {
   "metadata": {
    "id": "bQIQCvcps280",
    "colab_type": "text"
   },
   "cell_type": "markdown",
   "source": [
    "## License (MIT)\n",
    "\n",
    "Copyright (c) 2016-2017 by [Magnus Erik Hvass Pedersen](http://www.hvass-labs.org/) and 2018 by [Tobias Mérinat](https://www.linkedin.com/in/tobias-m%C3%A9rinat/)\n",
    "\n",
    "Permission is hereby granted, free of charge, to any person obtaining a copy of this software and associated documentation files (the \"Software\"), to deal in the Software without restriction, including without limitation the rights to use, copy, modify, merge, publish, distribute, sublicense, and/or sell copies of the Software, and to permit persons to whom the Software is furnished to do so, subject to the following conditions:\n",
    "\n",
    "The above copyright notice and this permission notice shall be included in all copies or substantial portions of the Software.\n",
    "\n",
    "THE SOFTWARE IS PROVIDED \"AS IS\", WITHOUT WARRANTY OF ANY KIND, EXPRESS OR IMPLIED, INCLUDING BUT NOT LIMITED TO THE WARRANTIES OF MERCHANTABILITY, FITNESS FOR A PARTICULAR PURPOSE AND NONINFRINGEMENT. IN NO EVENT SHALL THE AUTHORS OR COPYRIGHT HOLDERS BE LIABLE FOR ANY CLAIM, DAMAGES OR OTHER LIABILITY, WHETHER IN AN ACTION OF CONTRACT, TORT OR OTHERWISE, ARISING FROM, OUT OF OR IN CONNECTION WITH THE SOFTWARE OR THE USE OR OTHER DEALINGS IN THE SOFTWARE."
   ]
  }
 ]
}
