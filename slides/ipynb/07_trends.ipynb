{
 "cells": [
  {
   "cell_type": "code",
   "execution_count": null,
   "metadata": {
    "slideshow": {
     "slide_type": "skip"
    }
   },
   "outputs": [],
   "source": [
    "from traitlets.config.manager import BaseJSONConfigManager\n",
    "path = \"~/.jupyter/nbconfig\"\n",
    "cm = BaseJSONConfigManager(config_dir=path)\n",
    "cm.update('rise', {\n",
    "              'theme': 'solarized',\n",
    "              'transition': 'slide', # none/fade/slide/convex/concave/zoom\n",
    "              'start_slideshow_at': 'selected',\n",
    "              'scroll': 'false',\n",
    "              'history': 'false' ,\n",
    "              'progress': 'true',\n",
    "              'autolaunch': 'false',\n",
    "              'enable_chalkboard': 'true'\n",
    "})"
   ]
  },
  {
   "cell_type": "code",
   "execution_count": null,
   "metadata": {
    "slideshow": {
     "slide_type": "skip"
    }
   },
   "outputs": [],
   "source": []
  },
  {
   "cell_type": "markdown",
   "metadata": {
    "slideshow": {
     "slide_type": "slide"
    }
   },
   "source": [
    "## Einige Trends im Machine Learning"
   ]
  },
  {
   "cell_type": "markdown",
   "metadata": {
    "slideshow": {
     "slide_type": "subslide"
    }
   },
   "source": [
    "### Automatisierung"
   ]
  },
  {
   "cell_type": "markdown",
   "metadata": {
    "slideshow": {
     "slide_type": "fragment"
    }
   },
   "source": [
    "* AutoML (Automatic Machine Learning) ist ein eigenes Forschungsgebiet"
   ]
  },
  {
   "cell_type": "markdown",
   "metadata": {
    "slideshow": {
     "slide_type": "fragment"
    }
   },
   "source": [
    "* Es begann mit der Entwicklung von Tools für automatisiertes Hyperparameter Tuning"
   ]
  },
  {
   "cell_type": "markdown",
   "metadata": {
    "slideshow": {
     "slide_type": "fragment"
    }
   },
   "source": [
    "* Mittlerweile umfasst es Feature Engineering, Auswahl von Algorithmen, Suche nach der optimalen Architektur von Neuronalen Netzen, Hyperparameter Tuning und Stacking/Ensembling"
   ]
  },
  {
   "cell_type": "markdown",
   "metadata": {
    "slideshow": {
     "slide_type": "subslide"
    }
   },
   "source": [
    "AutoML hat zwei Ziele:"
   ]
  },
  {
   "cell_type": "markdown",
   "metadata": {
    "slideshow": {
     "slide_type": "fragment"
    }
   },
   "source": [
    "* Experten effizienter zu machen"
   ]
  },
  {
   "cell_type": "markdown",
   "metadata": {
    "slideshow": {
     "slide_type": "fragment"
    }
   },
   "source": [
    "* Es Nicht-Experten zu erlauben, hochqualitative Machine Learning Modelle zu trainieren"
   ]
  },
  {
   "cell_type": "markdown",
   "metadata": {
    "slideshow": {
     "slide_type": "subslide"
    }
   },
   "source": [
    "Einige Beispiele"
   ]
  },
  {
   "cell_type": "markdown",
   "metadata": {
    "slideshow": {
     "slide_type": "subslide"
    }
   },
   "source": [
    "Feature Engineering"
   ]
  },
  {
   "cell_type": "markdown",
   "metadata": {
    "slideshow": {
     "slide_type": "fragment"
    }
   },
   "source": [
    "<a href=\"https://www.featuretools.com/\"><img src=\"images/featuretools.png\" height=\"50%\" width=\"50%\"/></a>"
   ]
  },
  {
   "cell_type": "markdown",
   "metadata": {
    "slideshow": {
     "slide_type": "subslide"
    }
   },
   "source": [
    "Auswahl des Algorithmus und Hyperparametertuning:"
   ]
  },
  {
   "cell_type": "markdown",
   "metadata": {
    "slideshow": {
     "slide_type": "fragment"
    }
   },
   "source": [
    "<a href=\"https://epistasislab.github.io/tpot/api/\"><img src=\"images/tpot-logo.jpg\" height=\"20%\" width=\"20%\"/></a>"
   ]
  },
  {
   "cell_type": "markdown",
   "metadata": {
    "slideshow": {
     "slide_type": "fragment"
    }
   },
   "source": [
    "<a href=\"https://automl.github.io/auto-sklearn/stable/\"><img src=\"images/auto-sklearn.png\" height=\"20%\" width=\"20%\"/></a>"
   ]
  },
  {
   "cell_type": "markdown",
   "metadata": {
    "slideshow": {
     "slide_type": "fragment"
    }
   },
   "source": [
    "<a href=\"http://docs.h2o.ai/h2o/latest-stable/h2o-docs/automl.html\"><img src=\"images/h2oautoml.png\" height=\"30%\" width=\"30%\"/></a>"
   ]
  },
  {
   "cell_type": "markdown",
   "metadata": {
    "slideshow": {
     "slide_type": "subslide"
    }
   },
   "source": [
    "Automatische Generierung von Neuronalen Netzwerken (\"Neural Architecture Search\")"
   ]
  },
  {
   "cell_type": "markdown",
   "metadata": {
    "slideshow": {
     "slide_type": "fragment"
    }
   },
   "source": [
    "<a href=\"https://cloud.google.com/automl/\"><img src=\"images/automl.png\" height=\"40%\" width=\"40%\"/></a>"
   ]
  },
  {
   "cell_type": "markdown",
   "metadata": {
    "slideshow": {
     "slide_type": "fragment"
    }
   },
   "source": [
    "<a href=\"https://autokeras.com/\"><img src=\"images/autokeras.png\" height=\"40%\" width=\"40%\"/></a>"
   ]
  },
  {
   "cell_type": "markdown",
   "metadata": {
    "slideshow": {
     "slide_type": "subslide"
    }
   },
   "source": [
    "### AI Accelerator Chips"
   ]
  },
  {
   "cell_type": "markdown",
   "metadata": {
    "slideshow": {
     "slide_type": "fragment"
    }
   },
   "source": [
    "* Google, Apple, Facebook, Alibaba, Tencent, Samsung, ARM, Intel, Qualcom, ..."
   ]
  },
  {
   "cell_type": "markdown",
   "metadata": {
    "slideshow": {
     "slide_type": "fragment"
    }
   },
   "source": [
    "* Jeder baut seinen eigenen Chip oder Coprozessor ([Liste](https://basicmi.github.io/Deep-Learning-Processor-List/))"
   ]
  },
  {
   "cell_type": "markdown",
   "metadata": {
    "slideshow": {
     "slide_type": "fragment"
    }
   },
   "source": [
    "* Custom Chips in Mobiles, Drones, Autos, Robotern, IoT Geräten, Kameras, Mikrofonen, ..."
   ]
  },
  {
   "cell_type": "markdown",
   "metadata": {
    "slideshow": {
     "slide_type": "fragment"
    }
   },
   "source": [
    "* Mittelfristig sicher nur für Inferenz, nicht für Training"
   ]
  },
  {
   "cell_type": "markdown",
   "metadata": {
    "slideshow": {
     "slide_type": "subslide"
    }
   },
   "source": [
    "* [Google Tensorflow Processing Unit (TPU)](https://cloud.google.com/tpu/)\n",
    "<img src=\"images/tpu.png\" height=\"50%\" width=\"50%\"/>"
   ]
  },
  {
   "cell_type": "markdown",
   "metadata": {
    "slideshow": {
     "slide_type": "subslide"
    }
   },
   "source": [
    "Apple A11 mit der [Neural Engine](https://en.wikipedia.org/wiki/Apple_A11#Neural_Engine)\n",
    "<img src=\"images/a11.jpg\" height=\"50%\" width=\"50%\"/>"
   ]
  },
  {
   "cell_type": "markdown",
   "metadata": {
    "slideshow": {
     "slide_type": "subslide"
    }
   },
   "source": [
    "Samsung Exynos 9810\n",
    "<img src=\"images/exynos.png\" height=\"50%\" width=\"50%\"/>"
   ]
  },
  {
   "cell_type": "markdown",
   "metadata": {
    "slideshow": {
     "slide_type": "subslide"
    }
   },
   "source": [
    "### Unsupervised und Semi-Supervised Learning"
   ]
  },
  {
   "cell_type": "markdown",
   "metadata": {
    "slideshow": {
     "slide_type": "fragment"
    }
   },
   "source": [
    "* Sehr viel Fortschritt in diesem Bereich"
   ]
  },
  {
   "cell_type": "markdown",
   "metadata": {
    "slideshow": {
     "slide_type": "fragment"
    }
   },
   "source": [
    "* Der \"Flaschenhals\" Labelling wird angegangen"
   ]
  },
  {
   "cell_type": "markdown",
   "metadata": {
    "slideshow": {
     "slide_type": "fragment"
    }
   },
   "source": [
    "* Markt für Labelling und Trainingsset as a Service wächst"
   ]
  },
  {
   "cell_type": "markdown",
   "metadata": {
    "slideshow": {
     "slide_type": "subslide"
    }
   },
   "source": [
    "Dienstleister für Labelling und Erstellen von Trainings-Sets as a Service"
   ]
  },
  {
   "cell_type": "markdown",
   "metadata": {
    "ExecuteTime": {
     "end_time": "2018-08-23T14:17:00.434719Z",
     "start_time": "2018-08-23T14:17:00.429881Z"
    },
    "slideshow": {
     "slide_type": "fragment"
    }
   },
   "source": [
    "<table>\n",
    "<tr>\n",
    "<td><a href=\"https://www.crowdflower.com/\"><img src=\"images/crowdflower.png\" height=\"30%\" width=\"30%\"/></a></td>\n",
    "<td><a href=\"http://stardust.ai/en\"><img src=\"images/stardust.png\" height=\"120%\" width=\"120%\"/></a></td>\n",
    "</tr>\n",
    "<tr>\n",
    "<td><a href=\"https://www.figure-eight.com/\"><img src=\"images/figure8.png\" height=\"25%\" width=\"25%\"/></a></td>\n",
    "<td><a href=\"https://cloud.google.com/automl/\"><img src=\"images/automlhuman.svg\" height=\"100%\" width=\"100%\"/></a></td>\n",
    "</tr>\n",
    "</table>"
   ]
  }
 ],
 "metadata": {
  "celltoolbar": "Slideshow",
  "kernelspec": {
   "display_name": "Python 3",
   "language": "python",
   "name": "python3"
  },
  "language_info": {
   "codemirror_mode": {
    "name": "ipython",
    "version": 3
   },
   "file_extension": ".py",
   "mimetype": "text/x-python",
   "name": "python",
   "nbconvert_exporter": "python",
   "pygments_lexer": "ipython3",
   "version": "3.7.0"
  }
 },
 "nbformat": 4,
 "nbformat_minor": 2
}
