{
 "cells": [
  {
   "cell_type": "code",
   "execution_count": 1,
   "metadata": {
    "slideshow": {
     "slide_type": "skip"
    }
   },
   "outputs": [
    {
     "data": {
      "text/plain": [
       "{'theme': 'solarized',\n",
       " 'transition': 'slide',\n",
       " 'start_slideshow_at': 'selected',\n",
       " 'scroll': 'false',\n",
       " 'history': 'false',\n",
       " 'progress': 'true',\n",
       " 'autolaunch': 'false',\n",
       " 'enable_chalkboard': 'true'}"
      ]
     },
     "execution_count": 1,
     "metadata": {},
     "output_type": "execute_result"
    }
   ],
   "source": [
    "from traitlets.config.manager import BaseJSONConfigManager\n",
    "path = \"~/.jupyter/nbconfig\"\n",
    "cm = BaseJSONConfigManager(config_dir=path)\n",
    "cm.update('rise', {\n",
    "              'theme': 'solarized',\n",
    "              'transition': 'slide', # none/fade/slide/convex/concave/zoom\n",
    "              'start_slideshow_at': 'selected',\n",
    "              'scroll': 'false',\n",
    "              'history': 'false' ,\n",
    "              'progress': 'true',\n",
    "              'autolaunch': 'false',\n",
    "              'enable_chalkboard': 'true'\n",
    "})"
   ]
  },
  {
   "cell_type": "markdown",
   "metadata": {
    "slideshow": {
     "slide_type": "slide"
    }
   },
   "source": [
    "# Machine Learning für Software Entwickler"
   ]
  },
  {
   "cell_type": "markdown",
   "metadata": {
    "slideshow": {
     "slide_type": "fragment"
    }
   },
   "source": [
    "Workshoptage 13. September 2018"
   ]
  },
  {
   "cell_type": "markdown",
   "metadata": {
    "slideshow": {
     "slide_type": "slide"
    }
   },
   "source": [
    "## Ablauf"
   ]
  },
  {
   "cell_type": "markdown",
   "metadata": {
    "slideshow": {
     "slide_type": "subslide"
    }
   },
   "source": [
    "### Vormittag\n",
    "1. Vorstellung\n",
    "1. Machine Learning im Überblick\n",
    "1. *Kaffeepause (ca. 10:30)*\n",
    "1. Machine Learning Ablauf an einem Beispiel\n",
    "1. Abgrenzung und Begriffe\n",
    "1. Machine Learning und die Softwareentwicklung\n",
    "1. Trends im Machine Learning"
   ]
  },
  {
   "cell_type": "markdown",
   "metadata": {
    "slideshow": {
     "slide_type": "subslide"
    }
   },
   "source": [
    "### Mittagspause\n",
    "12:45 - 14:00"
   ]
  },
  {
   "cell_type": "markdown",
   "metadata": {
    "slideshow": {
     "slide_type": "subslide"
    }
   },
   "source": [
    "### Nachmittag\n",
    "1. Recap\n",
    "1. Toy Projects\n",
    "1. *Kaffeepause (zwischen 15:30 und 16:00)*\n",
    "1. Toy Projects"
   ]
  }
 ],
 "metadata": {
  "celltoolbar": "Slideshow",
  "kernelspec": {
   "display_name": "Python 3",
   "language": "python",
   "name": "python3"
  },
  "language_info": {
   "codemirror_mode": {
    "name": "ipython",
    "version": 3
   },
   "file_extension": ".py",
   "mimetype": "text/x-python",
   "name": "python",
   "nbconvert_exporter": "python",
   "pygments_lexer": "ipython3",
   "version": "3.7.0"
  }
 },
 "nbformat": 4,
 "nbformat_minor": 2
}
